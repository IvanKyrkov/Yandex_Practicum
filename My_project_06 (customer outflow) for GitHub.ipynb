{
 "cells": [
  {
   "cell_type": "markdown",
   "metadata": {
    "toc": true
   },
   "source": [
    "<h1>Содержание<span class=\"tocSkip\"></span></h1>\n",
    "<div class=\"toc\"><ul class=\"toc-item\"><li><span><a href=\"#Подготовка-данных\" data-toc-modified-id=\"Подготовка-данных-1\"><span class=\"toc-item-num\">1&nbsp;&nbsp;</span>Подготовка данных</a></span></li><li><span><a href=\"#Исследование-задачи\" data-toc-modified-id=\"Исследование-задачи-2\"><span class=\"toc-item-num\">2&nbsp;&nbsp;</span>Исследование задачи</a></span></li><li><span><a href=\"#Борьба-с-дисбалансом\" data-toc-modified-id=\"Борьба-с-дисбалансом-3\"><span class=\"toc-item-num\">3&nbsp;&nbsp;</span>Борьба с дисбалансом</a></span><ul class=\"toc-item\"><li><span><a href=\"#Взвешивание-классов-как-метод-балансировки-(class_weight)\" data-toc-modified-id=\"Взвешивание-классов-как-метод-балансировки-(class_weight)-3.1\"><span class=\"toc-item-num\">3.1&nbsp;&nbsp;</span>Взвешивание классов как метод балансировки (class_weight)</a></span></li><li><span><a href=\"#Увеличение-выборки-как-метод-балансировки-(oversampling)\" data-toc-modified-id=\"Увеличение-выборки-как-метод-балансировки-(oversampling)-3.2\"><span class=\"toc-item-num\">3.2&nbsp;&nbsp;</span>Увеличение выборки как метод балансировки (oversampling)</a></span></li><li><span><a href=\"#Уменьшение-выборки-как-метод-балансировки-(undersampling)\" data-toc-modified-id=\"Уменьшение-выборки-как-метод-балансировки-(undersampling)-3.3\"><span class=\"toc-item-num\">3.3&nbsp;&nbsp;</span>Уменьшение выборки как метод балансировки (undersampling)</a></span></li><li><span><a href=\"#Визуализация-результатов-исследования-и-борьбы-с-дисбалансом\" data-toc-modified-id=\"Визуализация-результатов-исследования-и-борьбы-с-дисбалансом-3.4\"><span class=\"toc-item-num\">3.4&nbsp;&nbsp;</span>Визуализация результатов исследования и борьбы с дисбалансом</a></span></li></ul></li><li><span><a href=\"#Тестирование-модели\" data-toc-modified-id=\"Тестирование-модели-4\"><span class=\"toc-item-num\">4&nbsp;&nbsp;</span>Тестирование модели</a></span></li><li><span><a href=\"#Итоговый-вывод\" data-toc-modified-id=\"Итоговый-вывод-5\"><span class=\"toc-item-num\">5&nbsp;&nbsp;</span>Итоговый вывод</a></span></li></ul></div>"
   ]
  },
  {
   "cell_type": "markdown",
   "metadata": {},
   "source": [
    "# Отток клиентов"
   ]
  },
  {
   "cell_type": "markdown",
   "metadata": {},
   "source": [
    "## Подготовка данных"
   ]
  },
  {
   "cell_type": "markdown",
   "metadata": {},
   "source": [
    "**Загружаем библиотеки для работы**"
   ]
  },
  {
   "cell_type": "code",
   "execution_count": 1,
   "metadata": {},
   "outputs": [],
   "source": [
    "import pandas as pd\n",
    "import matplotlib.pyplot as plt\n",
    "import numpy as np\n",
    "\n",
    "from sklearn.model_selection import train_test_split\n",
    "from sklearn.tree import DecisionTreeClassifier\n",
    "from sklearn.linear_model import LogisticRegression\n",
    "from sklearn.ensemble import RandomForestClassifier, GradientBoostingClassifier\n",
    "from sklearn.metrics import accuracy_score, f1_score, roc_auc_score\n",
    "from sklearn.preprocessing import OneHotEncoder, StandardScaler\n",
    "from sklearn.compose import ColumnTransformer\n",
    "from sklearn.utils import resample"
   ]
  },
  {
   "cell_type": "markdown",
   "metadata": {},
   "source": [
    "**Считываем данные из csv-файла и сохраняем в переменную data**"
   ]
  },
  {
   "cell_type": "code",
   "execution_count": 2,
   "metadata": {
    "scrolled": false
   },
   "outputs": [
    {
     "data": {
      "text/html": [
       "<div>\n",
       "<style scoped>\n",
       "    .dataframe tbody tr th:only-of-type {\n",
       "        vertical-align: middle;\n",
       "    }\n",
       "\n",
       "    .dataframe tbody tr th {\n",
       "        vertical-align: top;\n",
       "    }\n",
       "\n",
       "    .dataframe thead th {\n",
       "        text-align: right;\n",
       "    }\n",
       "</style>\n",
       "<table border=\"1\" class=\"dataframe\">\n",
       "  <thead>\n",
       "    <tr style=\"text-align: right;\">\n",
       "      <th></th>\n",
       "      <th>RowNumber</th>\n",
       "      <th>CustomerId</th>\n",
       "      <th>Surname</th>\n",
       "      <th>CreditScore</th>\n",
       "      <th>Geography</th>\n",
       "      <th>Gender</th>\n",
       "      <th>Age</th>\n",
       "      <th>Tenure</th>\n",
       "      <th>Balance</th>\n",
       "      <th>NumOfProducts</th>\n",
       "      <th>HasCrCard</th>\n",
       "      <th>IsActiveMember</th>\n",
       "      <th>EstimatedSalary</th>\n",
       "      <th>Exited</th>\n",
       "    </tr>\n",
       "  </thead>\n",
       "  <tbody>\n",
       "    <tr>\n",
       "      <th>0</th>\n",
       "      <td>1</td>\n",
       "      <td>15634602</td>\n",
       "      <td>Hargrave</td>\n",
       "      <td>619</td>\n",
       "      <td>France</td>\n",
       "      <td>Female</td>\n",
       "      <td>42</td>\n",
       "      <td>2.0</td>\n",
       "      <td>0.00</td>\n",
       "      <td>1</td>\n",
       "      <td>1</td>\n",
       "      <td>1</td>\n",
       "      <td>101348.88</td>\n",
       "      <td>1</td>\n",
       "    </tr>\n",
       "    <tr>\n",
       "      <th>1</th>\n",
       "      <td>2</td>\n",
       "      <td>15647311</td>\n",
       "      <td>Hill</td>\n",
       "      <td>608</td>\n",
       "      <td>Spain</td>\n",
       "      <td>Female</td>\n",
       "      <td>41</td>\n",
       "      <td>1.0</td>\n",
       "      <td>83807.86</td>\n",
       "      <td>1</td>\n",
       "      <td>0</td>\n",
       "      <td>1</td>\n",
       "      <td>112542.58</td>\n",
       "      <td>0</td>\n",
       "    </tr>\n",
       "    <tr>\n",
       "      <th>2</th>\n",
       "      <td>3</td>\n",
       "      <td>15619304</td>\n",
       "      <td>Onio</td>\n",
       "      <td>502</td>\n",
       "      <td>France</td>\n",
       "      <td>Female</td>\n",
       "      <td>42</td>\n",
       "      <td>8.0</td>\n",
       "      <td>159660.80</td>\n",
       "      <td>3</td>\n",
       "      <td>1</td>\n",
       "      <td>0</td>\n",
       "      <td>113931.57</td>\n",
       "      <td>1</td>\n",
       "    </tr>\n",
       "    <tr>\n",
       "      <th>3</th>\n",
       "      <td>4</td>\n",
       "      <td>15701354</td>\n",
       "      <td>Boni</td>\n",
       "      <td>699</td>\n",
       "      <td>France</td>\n",
       "      <td>Female</td>\n",
       "      <td>39</td>\n",
       "      <td>1.0</td>\n",
       "      <td>0.00</td>\n",
       "      <td>2</td>\n",
       "      <td>0</td>\n",
       "      <td>0</td>\n",
       "      <td>93826.63</td>\n",
       "      <td>0</td>\n",
       "    </tr>\n",
       "    <tr>\n",
       "      <th>4</th>\n",
       "      <td>5</td>\n",
       "      <td>15737888</td>\n",
       "      <td>Mitchell</td>\n",
       "      <td>850</td>\n",
       "      <td>Spain</td>\n",
       "      <td>Female</td>\n",
       "      <td>43</td>\n",
       "      <td>2.0</td>\n",
       "      <td>125510.82</td>\n",
       "      <td>1</td>\n",
       "      <td>1</td>\n",
       "      <td>1</td>\n",
       "      <td>79084.10</td>\n",
       "      <td>0</td>\n",
       "    </tr>\n",
       "  </tbody>\n",
       "</table>\n",
       "</div>"
      ],
      "text/plain": [
       "   RowNumber  CustomerId   Surname  CreditScore Geography  Gender  Age  \\\n",
       "0          1    15634602  Hargrave          619    France  Female   42   \n",
       "1          2    15647311      Hill          608     Spain  Female   41   \n",
       "2          3    15619304      Onio          502    France  Female   42   \n",
       "3          4    15701354      Boni          699    France  Female   39   \n",
       "4          5    15737888  Mitchell          850     Spain  Female   43   \n",
       "\n",
       "   Tenure    Balance  NumOfProducts  HasCrCard  IsActiveMember  \\\n",
       "0     2.0       0.00              1          1               1   \n",
       "1     1.0   83807.86              1          0               1   \n",
       "2     8.0  159660.80              3          1               0   \n",
       "3     1.0       0.00              2          0               0   \n",
       "4     2.0  125510.82              1          1               1   \n",
       "\n",
       "   EstimatedSalary  Exited  \n",
       "0        101348.88       1  \n",
       "1        112542.58       0  \n",
       "2        113931.57       1  \n",
       "3         93826.63       0  \n",
       "4         79084.10       0  "
      ]
     },
     "metadata": {},
     "output_type": "display_data"
    },
    {
     "name": "stdout",
     "output_type": "stream",
     "text": [
      "<class 'pandas.core.frame.DataFrame'>\n",
      "RangeIndex: 10000 entries, 0 to 9999\n",
      "Data columns (total 14 columns):\n",
      " #   Column           Non-Null Count  Dtype  \n",
      "---  ------           --------------  -----  \n",
      " 0   RowNumber        10000 non-null  int64  \n",
      " 1   CustomerId       10000 non-null  int64  \n",
      " 2   Surname          10000 non-null  object \n",
      " 3   CreditScore      10000 non-null  int64  \n",
      " 4   Geography        10000 non-null  object \n",
      " 5   Gender           10000 non-null  object \n",
      " 6   Age              10000 non-null  int64  \n",
      " 7   Tenure           9091 non-null   float64\n",
      " 8   Balance          10000 non-null  float64\n",
      " 9   NumOfProducts    10000 non-null  int64  \n",
      " 10  HasCrCard        10000 non-null  int64  \n",
      " 11  IsActiveMember   10000 non-null  int64  \n",
      " 12  EstimatedSalary  10000 non-null  float64\n",
      " 13  Exited           10000 non-null  int64  \n",
      "dtypes: float64(3), int64(8), object(3)\n",
      "memory usage: 1.1+ MB\n"
     ]
    },
    {
     "data": {
      "text/plain": [
       "None"
      ]
     },
     "metadata": {},
     "output_type": "display_data"
    },
    {
     "data": {
      "text/html": [
       "<div>\n",
       "<style scoped>\n",
       "    .dataframe tbody tr th:only-of-type {\n",
       "        vertical-align: middle;\n",
       "    }\n",
       "\n",
       "    .dataframe tbody tr th {\n",
       "        vertical-align: top;\n",
       "    }\n",
       "\n",
       "    .dataframe thead th {\n",
       "        text-align: right;\n",
       "    }\n",
       "</style>\n",
       "<table border=\"1\" class=\"dataframe\">\n",
       "  <thead>\n",
       "    <tr style=\"text-align: right;\">\n",
       "      <th></th>\n",
       "      <th>RowNumber</th>\n",
       "      <th>CustomerId</th>\n",
       "      <th>CreditScore</th>\n",
       "      <th>Age</th>\n",
       "      <th>Tenure</th>\n",
       "      <th>Balance</th>\n",
       "      <th>NumOfProducts</th>\n",
       "      <th>HasCrCard</th>\n",
       "      <th>IsActiveMember</th>\n",
       "      <th>EstimatedSalary</th>\n",
       "      <th>Exited</th>\n",
       "    </tr>\n",
       "  </thead>\n",
       "  <tbody>\n",
       "    <tr>\n",
       "      <th>count</th>\n",
       "      <td>10000.00000</td>\n",
       "      <td>1.000000e+04</td>\n",
       "      <td>10000.000000</td>\n",
       "      <td>10000.000000</td>\n",
       "      <td>9091.000000</td>\n",
       "      <td>10000.000000</td>\n",
       "      <td>10000.000000</td>\n",
       "      <td>10000.00000</td>\n",
       "      <td>10000.000000</td>\n",
       "      <td>10000.000000</td>\n",
       "      <td>10000.000000</td>\n",
       "    </tr>\n",
       "    <tr>\n",
       "      <th>mean</th>\n",
       "      <td>5000.50000</td>\n",
       "      <td>1.569094e+07</td>\n",
       "      <td>650.528800</td>\n",
       "      <td>38.921800</td>\n",
       "      <td>4.997690</td>\n",
       "      <td>76485.889288</td>\n",
       "      <td>1.530200</td>\n",
       "      <td>0.70550</td>\n",
       "      <td>0.515100</td>\n",
       "      <td>100090.239881</td>\n",
       "      <td>0.203700</td>\n",
       "    </tr>\n",
       "    <tr>\n",
       "      <th>std</th>\n",
       "      <td>2886.89568</td>\n",
       "      <td>7.193619e+04</td>\n",
       "      <td>96.653299</td>\n",
       "      <td>10.487806</td>\n",
       "      <td>2.894723</td>\n",
       "      <td>62397.405202</td>\n",
       "      <td>0.581654</td>\n",
       "      <td>0.45584</td>\n",
       "      <td>0.499797</td>\n",
       "      <td>57510.492818</td>\n",
       "      <td>0.402769</td>\n",
       "    </tr>\n",
       "    <tr>\n",
       "      <th>min</th>\n",
       "      <td>1.00000</td>\n",
       "      <td>1.556570e+07</td>\n",
       "      <td>350.000000</td>\n",
       "      <td>18.000000</td>\n",
       "      <td>0.000000</td>\n",
       "      <td>0.000000</td>\n",
       "      <td>1.000000</td>\n",
       "      <td>0.00000</td>\n",
       "      <td>0.000000</td>\n",
       "      <td>11.580000</td>\n",
       "      <td>0.000000</td>\n",
       "    </tr>\n",
       "    <tr>\n",
       "      <th>25%</th>\n",
       "      <td>2500.75000</td>\n",
       "      <td>1.562853e+07</td>\n",
       "      <td>584.000000</td>\n",
       "      <td>32.000000</td>\n",
       "      <td>2.000000</td>\n",
       "      <td>0.000000</td>\n",
       "      <td>1.000000</td>\n",
       "      <td>0.00000</td>\n",
       "      <td>0.000000</td>\n",
       "      <td>51002.110000</td>\n",
       "      <td>0.000000</td>\n",
       "    </tr>\n",
       "    <tr>\n",
       "      <th>50%</th>\n",
       "      <td>5000.50000</td>\n",
       "      <td>1.569074e+07</td>\n",
       "      <td>652.000000</td>\n",
       "      <td>37.000000</td>\n",
       "      <td>5.000000</td>\n",
       "      <td>97198.540000</td>\n",
       "      <td>1.000000</td>\n",
       "      <td>1.00000</td>\n",
       "      <td>1.000000</td>\n",
       "      <td>100193.915000</td>\n",
       "      <td>0.000000</td>\n",
       "    </tr>\n",
       "    <tr>\n",
       "      <th>75%</th>\n",
       "      <td>7500.25000</td>\n",
       "      <td>1.575323e+07</td>\n",
       "      <td>718.000000</td>\n",
       "      <td>44.000000</td>\n",
       "      <td>7.000000</td>\n",
       "      <td>127644.240000</td>\n",
       "      <td>2.000000</td>\n",
       "      <td>1.00000</td>\n",
       "      <td>1.000000</td>\n",
       "      <td>149388.247500</td>\n",
       "      <td>0.000000</td>\n",
       "    </tr>\n",
       "    <tr>\n",
       "      <th>max</th>\n",
       "      <td>10000.00000</td>\n",
       "      <td>1.581569e+07</td>\n",
       "      <td>850.000000</td>\n",
       "      <td>92.000000</td>\n",
       "      <td>10.000000</td>\n",
       "      <td>250898.090000</td>\n",
       "      <td>4.000000</td>\n",
       "      <td>1.00000</td>\n",
       "      <td>1.000000</td>\n",
       "      <td>199992.480000</td>\n",
       "      <td>1.000000</td>\n",
       "    </tr>\n",
       "  </tbody>\n",
       "</table>\n",
       "</div>"
      ],
      "text/plain": [
       "         RowNumber    CustomerId   CreditScore           Age       Tenure  \\\n",
       "count  10000.00000  1.000000e+04  10000.000000  10000.000000  9091.000000   \n",
       "mean    5000.50000  1.569094e+07    650.528800     38.921800     4.997690   \n",
       "std     2886.89568  7.193619e+04     96.653299     10.487806     2.894723   \n",
       "min        1.00000  1.556570e+07    350.000000     18.000000     0.000000   \n",
       "25%     2500.75000  1.562853e+07    584.000000     32.000000     2.000000   \n",
       "50%     5000.50000  1.569074e+07    652.000000     37.000000     5.000000   \n",
       "75%     7500.25000  1.575323e+07    718.000000     44.000000     7.000000   \n",
       "max    10000.00000  1.581569e+07    850.000000     92.000000    10.000000   \n",
       "\n",
       "             Balance  NumOfProducts    HasCrCard  IsActiveMember  \\\n",
       "count   10000.000000   10000.000000  10000.00000    10000.000000   \n",
       "mean    76485.889288       1.530200      0.70550        0.515100   \n",
       "std     62397.405202       0.581654      0.45584        0.499797   \n",
       "min         0.000000       1.000000      0.00000        0.000000   \n",
       "25%         0.000000       1.000000      0.00000        0.000000   \n",
       "50%     97198.540000       1.000000      1.00000        1.000000   \n",
       "75%    127644.240000       2.000000      1.00000        1.000000   \n",
       "max    250898.090000       4.000000      1.00000        1.000000   \n",
       "\n",
       "       EstimatedSalary        Exited  \n",
       "count     10000.000000  10000.000000  \n",
       "mean     100090.239881      0.203700  \n",
       "std       57510.492818      0.402769  \n",
       "min          11.580000      0.000000  \n",
       "25%       51002.110000      0.000000  \n",
       "50%      100193.915000      0.000000  \n",
       "75%      149388.247500      0.000000  \n",
       "max      199992.480000      1.000000  "
      ]
     },
     "metadata": {},
     "output_type": "display_data"
    }
   ],
   "source": [
    "# Загрузка данных\n",
    "data = pd.read_csv('/datasets/Churn.csv')\n",
    "pd.set_option('display.max_columns', None) # увеличиваем максимальное количество отображающихся столбцов\n",
    "\n",
    "# Описание данных\n",
    "display(data.head()) # Вывод первых 5 строк данных\n",
    "display(data.info()) # Общая информация о данных\n",
    "display(data.describe()) # Статистические характеристики данных"
   ]
  },
  {
   "cell_type": "markdown",
   "metadata": {},
   "source": [
    "**Проверка на пробелы в названиях колонок**"
   ]
  },
  {
   "cell_type": "code",
   "execution_count": 3,
   "metadata": {},
   "outputs": [
    {
     "name": "stdout",
     "output_type": "stream",
     "text": [
      "data: в названиях столбцов нет пробелов\n"
     ]
    }
   ],
   "source": [
    "# Сначала проверим, есть ли пробелы в названиях колонок:\n",
    "columns_with_spaces = [col for col in data.columns if ' ' in col]\n",
    "if columns_with_spaces:\n",
    "    print('data: есть пробел в названии столбца:', ', '.join(columns_with_spaces))\n",
    "else:\n",
    "    print('data: в названиях столбцов нет пробелов')"
   ]
  },
  {
   "cell_type": "markdown",
   "metadata": {},
   "source": [
    "**Переименование столбцов в строчные символы и «змеиный_регистр»**"
   ]
  },
  {
   "cell_type": "code",
   "execution_count": 4,
   "metadata": {
    "scrolled": true
   },
   "outputs": [
    {
     "data": {
      "text/plain": [
       "Index(['row_number', 'customer_id', 'surname', 'credit_score', 'geography',\n",
       "       'gender', 'age', 'tenure', 'balance', 'num_of_products', 'has_cr_card',\n",
       "       'is_active_member', 'estimated_salary', 'exited'],\n",
       "      dtype='object')"
      ]
     },
     "metadata": {},
     "output_type": "display_data"
    }
   ],
   "source": [
    "data = data.rename(columns={'RowNumber': 'row_number', 'CustomerId': 'customer_id', 'Surname': 'surname', \n",
    "                            'CreditScore': 'credit_score', 'Geography': 'geography', 'Gender': 'gender', \n",
    "                            'Age': 'age', 'Tenure': 'tenure', 'Balance': 'balance', 'NumOfProducts': 'num_of_products', \n",
    "                            'HasCrCard': 'has_cr_card', 'IsActiveMember': 'is_active_member', \n",
    "                            'EstimatedSalary': 'estimated_salary', 'Exited': 'exited'})\n",
    "display(data.columns) # проверка результатов - перечень названий столбцов"
   ]
  },
  {
   "cell_type": "markdown",
   "metadata": {},
   "source": [
    "**Посмотрим размерность датафрейма и наличие пропущеных данных**"
   ]
  },
  {
   "cell_type": "code",
   "execution_count": 5,
   "metadata": {
    "scrolled": true
   },
   "outputs": [
    {
     "data": {
      "text/plain": [
       "(10000, 14)"
      ]
     },
     "metadata": {},
     "output_type": "display_data"
    },
    {
     "name": "stdout",
     "output_type": "stream",
     "text": [
      "\n"
     ]
    },
    {
     "data": {
      "text/plain": [
       "None"
      ]
     },
     "metadata": {},
     "output_type": "display_data"
    },
    {
     "data": {
      "text/plain": [
       "row_number            0\n",
       "customer_id           0\n",
       "surname               0\n",
       "credit_score          0\n",
       "geography             0\n",
       "gender                0\n",
       "age                   0\n",
       "tenure              909\n",
       "balance               0\n",
       "num_of_products       0\n",
       "has_cr_card           0\n",
       "is_active_member      0\n",
       "estimated_salary      0\n",
       "exited                0\n",
       "dtype: int64"
      ]
     },
     "metadata": {},
     "output_type": "display_data"
    }
   ],
   "source": [
    "display(data.shape)\n",
    "display(print(''))\n",
    "display(data.isna().sum())"
   ]
  },
  {
   "cell_type": "markdown",
   "metadata": {},
   "source": [
    "**Подсчет количества пропущенных значений в сроках клиентства**"
   ]
  },
  {
   "cell_type": "code",
   "execution_count": 6,
   "metadata": {
    "scrolled": true
   },
   "outputs": [
    {
     "name": "stdout",
     "output_type": "stream",
     "text": [
      "Пропущенных значений в сроках клиентства в банке: 183\n"
     ]
    }
   ],
   "source": [
    "filtered_data = data[data['exited'] == 1]\n",
    "\n",
    "# Подсчет пропущенных значений в колонке tenure\n",
    "missing_values_count = filtered_data['tenure'].isnull().sum()\n",
    "\n",
    "# Вывод результата\n",
    "if missing_values_count > 0:\n",
    "    print(\"Пропущенных значений в сроках клиентства в банке:\", missing_values_count)\n",
    "else:\n",
    "    print(\"Нет пропусков в сроках клиентства.\")"
   ]
  },
  {
   "cell_type": "markdown",
   "metadata": {},
   "source": [
    "**Проведем анализ о зависимости срока клиентства в банке и уходом из банка**"
   ]
  },
  {
   "cell_type": "code",
   "execution_count": 7,
   "metadata": {},
   "outputs": [
    {
     "data": {
      "text/plain": [
       "2037"
      ]
     },
     "metadata": {},
     "output_type": "display_data"
    },
    {
     "name": "stdout",
     "output_type": "stream",
     "text": [
      "     tenure  count  percentage\n",
      "0       0.0     90        4.42\n",
      "1       1.0    213       10.46\n",
      "2       2.0    185        9.08\n",
      "3       3.0    198        9.72\n",
      "4       4.0    184        9.03\n",
      "5       5.0    187        9.18\n",
      "6       6.0    177        8.69\n",
      "7       7.0    160        7.85\n",
      "8       8.0    174        8.54\n",
      "9       9.0    194        9.52\n",
      "10     10.0     92        4.52\n",
      "11  no_data    183        8.98\n",
      "12    Total   2037       99.99\n",
      "\n",
      "Все строки учтены\n"
     ]
    }
   ],
   "source": [
    "# Выведем на экран общее количество строк об ушедших клиентах\n",
    "filtered_data = data[data['exited'] == 1]\n",
    "total_rows = len(filtered_data)\n",
    "display(total_rows)\n",
    "\n",
    "# Таблица с добавлением пропущенных значений в 'tenure' и подсчетом их количества и процента от общего числа\n",
    "grouped_data = filtered_data.groupby('tenure').size().reset_index(name='count')\n",
    "\n",
    "# Подсчет пропущенных значений в колонке tenure\n",
    "missing_values_count = filtered_data['tenure'].isnull().sum()\n",
    "\n",
    "grouped_data = grouped_data.append({'tenure': 'no_data', 'count': missing_values_count}, \n",
    "                                   ignore_index=True)\n",
    "total_count = grouped_data['count'].sum()\n",
    "grouped_data['percentage'] = grouped_data['count'] / total_count * 100\n",
    "\n",
    "# Округлим проценты до 2 знаков после запятой\n",
    "grouped_data['percentage'] = grouped_data['percentage'].round(2)\n",
    "\n",
    "# Добавим итоговую строку для подтверждения что все строки учтены\n",
    "total = grouped_data['count'].sum()\n",
    "total_percentage = grouped_data['percentage'].sum()\n",
    "grouped_data = grouped_data.append({'tenure': 'Total', 'count': total, 'percentage': total_percentage}, \n",
    "                                   ignore_index=True)\n",
    "\n",
    "# Вывод таблицы\n",
    "print(grouped_data[['tenure', 'count', 'percentage']])\n",
    "\n",
    "# Проверка на охват данных\n",
    "print('')\n",
    "if total_rows == total:\n",
    "    print(\"Все строки учтены\")\n",
    "elif total_rows > total:\n",
    "    print(\"Есть ошибка. Не все данные учтены\")\n",
    "else:\n",
    "    print(\"Есть ошибка в учете данных\")"
   ]
  },
  {
   "cell_type": "markdown",
   "metadata": {},
   "source": [
    "**Промежуточный вывод:**\n",
    "<br>В данном случае, процентная доля уходящих клиентов находится на относительно стабильном уровне в диапазоне от 8.54% до 10.46% в зависимости от срока клиентства. Нет явно выраженной трендовой зависимости между сроком клиентства и уходом из банка.\n",
    "\n",
    "На основании предоставленных данных, можно сделать вывод, что срок клиентства клиентов банка не имеет существенного влияния на вероятность их ухода из банка. Пропуски допусимо заполнить медианной величиной."
   ]
  },
  {
   "cell_type": "markdown",
   "metadata": {},
   "source": [
    "**Пропуски в столбце 'tenure' заполняем медианным значением**"
   ]
  },
  {
   "cell_type": "code",
   "execution_count": 8,
   "metadata": {},
   "outputs": [],
   "source": [
    "data['tenure'].fillna(data['tenure'].median(), inplace=True)"
   ]
  },
  {
   "cell_type": "markdown",
   "metadata": {},
   "source": [
    "**Повторно посмотрим наличие пропущеных данных**"
   ]
  },
  {
   "cell_type": "code",
   "execution_count": 9,
   "metadata": {
    "scrolled": true
   },
   "outputs": [
    {
     "data": {
      "text/plain": [
       "row_number          0\n",
       "customer_id         0\n",
       "surname             0\n",
       "credit_score        0\n",
       "geography           0\n",
       "gender              0\n",
       "age                 0\n",
       "tenure              0\n",
       "balance             0\n",
       "num_of_products     0\n",
       "has_cr_card         0\n",
       "is_active_member    0\n",
       "estimated_salary    0\n",
       "exited              0\n",
       "dtype: int64"
      ]
     },
     "metadata": {},
     "output_type": "display_data"
    }
   ],
   "source": [
    "display(data.isna().sum())"
   ]
  },
  {
   "cell_type": "markdown",
   "metadata": {},
   "source": [
    "**Проверим датафрейм на дубликаты**"
   ]
  },
  {
   "cell_type": "code",
   "execution_count": 10,
   "metadata": {
    "scrolled": true
   },
   "outputs": [
    {
     "data": {
      "text/plain": [
       "0"
      ]
     },
     "execution_count": 10,
     "metadata": {},
     "output_type": "execute_result"
    }
   ],
   "source": [
    "data.duplicated().sum()"
   ]
  },
  {
   "cell_type": "markdown",
   "metadata": {},
   "source": [
    "**Определим соотношение действующих клиентов банка и ушедших по значениям в столбце 'exited'**"
   ]
  },
  {
   "cell_type": "code",
   "execution_count": 11,
   "metadata": {
    "scrolled": false
   },
   "outputs": [
    {
     "data": {
      "text/html": [
       "<div>\n",
       "<style scoped>\n",
       "    .dataframe tbody tr th:only-of-type {\n",
       "        vertical-align: middle;\n",
       "    }\n",
       "\n",
       "    .dataframe tbody tr th {\n",
       "        vertical-align: top;\n",
       "    }\n",
       "\n",
       "    .dataframe thead th {\n",
       "        text-align: right;\n",
       "    }\n",
       "</style>\n",
       "<table border=\"1\" class=\"dataframe\">\n",
       "  <thead>\n",
       "    <tr style=\"text-align: right;\">\n",
       "      <th></th>\n",
       "      <th>Client</th>\n",
       "      <th>Count</th>\n",
       "      <th>Percentage</th>\n",
       "    </tr>\n",
       "  </thead>\n",
       "  <tbody>\n",
       "    <tr>\n",
       "      <th>0</th>\n",
       "      <td>0</td>\n",
       "      <td>7963</td>\n",
       "      <td>79.63</td>\n",
       "    </tr>\n",
       "    <tr>\n",
       "      <th>1</th>\n",
       "      <td>1</td>\n",
       "      <td>2037</td>\n",
       "      <td>20.37</td>\n",
       "    </tr>\n",
       "  </tbody>\n",
       "</table>\n",
       "</div>"
      ],
      "text/plain": [
       "   Client  Count  Percentage\n",
       "0       0   7963       79.63\n",
       "1       1   2037       20.37"
      ]
     },
     "execution_count": 11,
     "metadata": {},
     "output_type": "execute_result"
    }
   ],
   "source": [
    "# Подсчет количества строк с значениями 0 и 1\n",
    "counts = data['exited'].value_counts()\n",
    "\n",
    "# Создание датафрейма с результатами\n",
    "result = pd.DataFrame({'Client': counts.index,\n",
    "                       'Count': counts.values,\n",
    "                       'Percentage': counts.values / len(data) * 100})\n",
    "\n",
    "# Определяем функцию для округления до двух знаков после запятой\n",
    "def round_percentage(value):\n",
    "    return round(value, 2)\n",
    "\n",
    "# Применяем функцию округления к каждому элементу серии 'Percentage'\n",
    "result['Percentage'] = result['Percentage'].apply(round_percentage)\n",
    "\n",
    "# Выводим на экран обновленную таблицу result\n",
    "result"
   ]
  },
  {
   "cell_type": "markdown",
   "metadata": {},
   "source": [
    "**Визуализация таблицы**"
   ]
  },
  {
   "cell_type": "code",
   "execution_count": 12,
   "metadata": {},
   "outputs": [
    {
     "data": {
      "image/png": "[encoded data removed]",
      "text/plain": [
       "<Figure size 432x288 with 1 Axes>"
      ]
     },
     "metadata": {
      "needs_background": "light"
     },
     "output_type": "display_data"
    }
   ],
   "source": [
    "counts.plot(kind='bar')\n",
    "plt.xlabel(\"Факт ухода клиента\")\n",
    "plt.ylabel(\"Количество клиентов\")\n",
    "plt.xticks(rotation=0)\n",
    "# plt.show()\n",
    "\n",
    "# Отображение процентного количества над каждым столбцом\n",
    "for i, count in enumerate(counts):\n",
    "    percentage = count / len(data) * 100\n",
    "    plt.annotate(f'{percentage:.2f}%', xy=(i, count), ha='center', va='bottom')\n",
    "\n",
    "plt.show()"
   ]
  },
  {
   "cell_type": "markdown",
   "metadata": {},
   "source": [
    "**Вывод:**\n",
    "- Файл успешно загружен и содержит информацию о поведении клиентов банка.\n",
    "- Всего доступно 14 столбцов, которые содержат различную информацию о клиентах, включая их идентификаторы, кредитный рейтинг, пол, возраст, количество продуктов, баланс и прочее.\n",
    "- Столбец \"Tenure\" (сколько лет человек является клиентом банка) содержит пропущенные значения, которые были заменены на 0.\n",
    "- В данных нет дубликатов.\n",
    "- Из представленного набора данных видно, что около 79.6% клиентов остаются в банке, в то время как 20.4% клиентов уходят.\n",
    "- Это соотношение предполагает, что у банка есть проблемы с удержанием клиентов, поскольку значительное количество клиентов покидает его.\n",
    "\n",
    "<br>Отток клиентов может быть обусловлен различными факторами, такими как уровень обслуживания, конкуренция, стоимость услуг, качество продуктов и другие. \n",
    "<br>Первоначальная предобработка данных выполнена. Необходимо провести анализ дальше для определения факторов, влияющих на отток клиентов в банке."
   ]
  },
  {
   "cell_type": "markdown",
   "metadata": {},
   "source": [
    "## Исследование задачи"
   ]
  },
  {
   "cell_type": "markdown",
   "metadata": {},
   "source": [
    "Целевым признаком являются значения в столбце Exited — факт ухода клиента."
   ]
  },
  {
   "cell_type": "markdown",
   "metadata": {},
   "source": [
    "**Удалим столбцы-идентификаторы, не представляющие ценности для алгоритма**"
   ]
  },
  {
   "cell_type": "code",
   "execution_count": 13,
   "metadata": {
    "scrolled": false
   },
   "outputs": [
    {
     "data": {
      "text/html": [
       "<div>\n",
       "<style scoped>\n",
       "    .dataframe tbody tr th:only-of-type {\n",
       "        vertical-align: middle;\n",
       "    }\n",
       "\n",
       "    .dataframe tbody tr th {\n",
       "        vertical-align: top;\n",
       "    }\n",
       "\n",
       "    .dataframe thead th {\n",
       "        text-align: right;\n",
       "    }\n",
       "</style>\n",
       "<table border=\"1\" class=\"dataframe\">\n",
       "  <thead>\n",
       "    <tr style=\"text-align: right;\">\n",
       "      <th></th>\n",
       "      <th>credit_score</th>\n",
       "      <th>geography</th>\n",
       "      <th>gender</th>\n",
       "      <th>age</th>\n",
       "      <th>tenure</th>\n",
       "      <th>balance</th>\n",
       "      <th>num_of_products</th>\n",
       "      <th>has_cr_card</th>\n",
       "      <th>is_active_member</th>\n",
       "      <th>estimated_salary</th>\n",
       "      <th>exited</th>\n",
       "    </tr>\n",
       "  </thead>\n",
       "  <tbody>\n",
       "    <tr>\n",
       "      <th>0</th>\n",
       "      <td>619</td>\n",
       "      <td>France</td>\n",
       "      <td>Female</td>\n",
       "      <td>42</td>\n",
       "      <td>2.0</td>\n",
       "      <td>0.00</td>\n",
       "      <td>1</td>\n",
       "      <td>1</td>\n",
       "      <td>1</td>\n",
       "      <td>101348.88</td>\n",
       "      <td>1</td>\n",
       "    </tr>\n",
       "    <tr>\n",
       "      <th>1</th>\n",
       "      <td>608</td>\n",
       "      <td>Spain</td>\n",
       "      <td>Female</td>\n",
       "      <td>41</td>\n",
       "      <td>1.0</td>\n",
       "      <td>83807.86</td>\n",
       "      <td>1</td>\n",
       "      <td>0</td>\n",
       "      <td>1</td>\n",
       "      <td>112542.58</td>\n",
       "      <td>0</td>\n",
       "    </tr>\n",
       "    <tr>\n",
       "      <th>2</th>\n",
       "      <td>502</td>\n",
       "      <td>France</td>\n",
       "      <td>Female</td>\n",
       "      <td>42</td>\n",
       "      <td>8.0</td>\n",
       "      <td>159660.80</td>\n",
       "      <td>3</td>\n",
       "      <td>1</td>\n",
       "      <td>0</td>\n",
       "      <td>113931.57</td>\n",
       "      <td>1</td>\n",
       "    </tr>\n",
       "    <tr>\n",
       "      <th>3</th>\n",
       "      <td>699</td>\n",
       "      <td>France</td>\n",
       "      <td>Female</td>\n",
       "      <td>39</td>\n",
       "      <td>1.0</td>\n",
       "      <td>0.00</td>\n",
       "      <td>2</td>\n",
       "      <td>0</td>\n",
       "      <td>0</td>\n",
       "      <td>93826.63</td>\n",
       "      <td>0</td>\n",
       "    </tr>\n",
       "    <tr>\n",
       "      <th>4</th>\n",
       "      <td>850</td>\n",
       "      <td>Spain</td>\n",
       "      <td>Female</td>\n",
       "      <td>43</td>\n",
       "      <td>2.0</td>\n",
       "      <td>125510.82</td>\n",
       "      <td>1</td>\n",
       "      <td>1</td>\n",
       "      <td>1</td>\n",
       "      <td>79084.10</td>\n",
       "      <td>0</td>\n",
       "    </tr>\n",
       "  </tbody>\n",
       "</table>\n",
       "</div>"
      ],
      "text/plain": [
       "   credit_score geography  gender  age  tenure    balance  num_of_products  \\\n",
       "0           619    France  Female   42     2.0       0.00                1   \n",
       "1           608     Spain  Female   41     1.0   83807.86                1   \n",
       "2           502    France  Female   42     8.0  159660.80                3   \n",
       "3           699    France  Female   39     1.0       0.00                2   \n",
       "4           850     Spain  Female   43     2.0  125510.82                1   \n",
       "\n",
       "   has_cr_card  is_active_member  estimated_salary  exited  \n",
       "0            1                 1         101348.88       1  \n",
       "1            0                 1         112542.58       0  \n",
       "2            1                 0         113931.57       1  \n",
       "3            0                 0          93826.63       0  \n",
       "4            1                 1          79084.10       0  "
      ]
     },
     "metadata": {},
     "output_type": "display_data"
    }
   ],
   "source": [
    "#Обозначим новый датафрейм \"data_ml\" — данные для машинного обучения\n",
    "data_ml = data.drop(['row_number', 'customer_id', 'surname'], axis=1)\n",
    "display(data_ml.head())"
   ]
  },
  {
   "cell_type": "markdown",
   "metadata": {},
   "source": [
    "**Определение объектов характеристик (features) и целевой переменной (target)**"
   ]
  },
  {
   "cell_type": "code",
   "execution_count": 14,
   "metadata": {},
   "outputs": [],
   "source": [
    "features = data_ml.drop('exited', axis=1)\n",
    "target = data_ml['exited']"
   ]
  },
  {
   "cell_type": "markdown",
   "metadata": {},
   "source": [
    "**Определение категориальных и числовых признаков. Применение One-Hot Encoding к категориальным признакам с учетом дамми-ловушки**"
   ]
  },
  {
   "cell_type": "code",
   "execution_count": 15,
   "metadata": {},
   "outputs": [],
   "source": [
    "# Определение категориальных и числовых признаков\n",
    "categorical_features = ['geography', 'gender']\n",
    "numeric_features = ['credit_score', 'age', 'tenure', 'balance', 'num_of_products', \n",
    "                    'has_cr_card', 'is_active_member', 'estimated_salary']\n",
    "\n",
    "# Применение One-Hot Encoding к категориальным признакам с учетом дамми-ловушки\n",
    "categorical_transformer = OneHotEncoder(drop='first')\n",
    "numeric_transformer = StandardScaler()\n",
    "\n",
    "preprocessor = ColumnTransformer(\n",
    "    transformers=[\n",
    "        ('cat', categorical_transformer, categorical_features),\n",
    "        ('num', numeric_transformer, numeric_features)])"
   ]
  },
  {
   "cell_type": "markdown",
   "metadata": {},
   "source": [
    "**Разделение данных на обучающую, валидационную и тестовую выборки с применением препроцессора**"
   ]
  },
  {
   "cell_type": "code",
   "execution_count": 16,
   "metadata": {},
   "outputs": [
    {
     "name": "stdout",
     "output_type": "stream",
     "text": [
      "Размер новой обучающей выборки: 6000 записей, 60.0 % от датасета\n",
      "Размер валидационной выборки: 1500 записей, 15.0 % от датасета\n",
      "Размер тестовой выборки: 2500 записей, 25.0 % от датасета\n"
     ]
    }
   ],
   "source": [
    "# Разделение данных на обучающую и тестовую выборки с применением препроцессора\n",
    "features_train, features_test, target_train, target_test = train_test_split(\n",
    "    features, target, test_size=0.25, random_state=12345)\n",
    "\n",
    "# Разделение обучающей выборки на новую обучающую выборку и валидационную выборку\n",
    "features_train, features_valid, target_train, target_valid = train_test_split(\n",
    "    features_train, target_train, test_size=0.2, random_state=12345)\n",
    "\n",
    "features_train_preprocessed = preprocessor.fit_transform(features_train)\n",
    "features_valid_preprocessed = preprocessor.transform(features_valid)\n",
    "features_test_preprocessed = preprocessor.transform(features_test)\n",
    "\n",
    "print(\"Размер новой обучающей выборки:\", features_train_preprocessed.shape[0], \"записей,\", \n",
    "      round(features_train_preprocessed.shape[0] / len(features) * 100, 2), \"% от датасета\")\n",
    "print(\"Размер валидационной выборки:\", features_valid_preprocessed.shape[0], \"записей,\", \n",
    "      round(features_valid_preprocessed.shape[0] / len(features) * 100, 2), \"% от датасета\")\n",
    "print(\"Размер тестовой выборки:\", features_test_preprocessed.shape[0], \"записей,\", \n",
    "      round(features_test_preprocessed.shape[0] / len(features) * 100, 2), \"% от датасета\")"
   ]
  },
  {
   "cell_type": "markdown",
   "metadata": {},
   "source": [
    "Сначала мы обучим модели без учета дисбаланса классов, а затем применим различные методы балансировки и сравним результаты."
   ]
  },
  {
   "cell_type": "markdown",
   "metadata": {},
   "source": [
    "**Напишем функцию для обучения модели и вычисления метрик**"
   ]
  },
  {
   "cell_type": "code",
   "execution_count": 17,
   "metadata": {},
   "outputs": [],
   "source": [
    "def train_and_evaluate_model(model, features_train, target_train, features_valid, target_valid):\n",
    "    # Обучаем модель\n",
    "    model.fit(features_train, target_train)\n",
    "\n",
    "    # Предсказываем на валидационных данных\n",
    "    predicted = model.predict(features_valid)\n",
    "\n",
    "    # Вычисляем метрику F1\n",
    "    f1 = f1_score(target_valid, predicted)\n",
    "\n",
    "    # Вычисляем метрику AUC-ROC\n",
    "    probabilities_valid = model.predict_proba(features_valid)\n",
    "    probabilities_one_valid = probabilities_valid[:, 1]\n",
    "    auc_roc = roc_auc_score(target_valid, probabilities_one_valid)\n",
    "\n",
    "    return f1, auc_roc"
   ]
  },
  {
   "cell_type": "markdown",
   "metadata": {},
   "source": [
    "**Модели**"
   ]
  },
  {
   "cell_type": "markdown",
   "metadata": {},
   "source": [
    "1.\tДерево решений (Decision Tree)"
   ]
  },
  {
   "cell_type": "code",
   "execution_count": 18,
   "metadata": {},
   "outputs": [
    {
     "name": "stdout",
     "output_type": "stream",
     "text": [
      "Значение F1 для модели Decision Tree: 0.5076923076923078\n",
      "Значение AUC-ROC для модели Decision Tree: 0.692102580189789\n"
     ]
    }
   ],
   "source": [
    "# Создаем экземпляр модели\n",
    "tree_model = DecisionTreeClassifier(random_state=12345)\n",
    "\n",
    "# Обучаем модель и вычисляем метрики\n",
    "f1_tree, auc_roc_tree = train_and_evaluate_model(tree_model, features_train_preprocessed, \n",
    "                                                 target_train, features_valid_preprocessed, target_valid)\n",
    "\n",
    "print(\"Значение F1 для модели Decision Tree:\", f1_tree)\n",
    "print(\"Значение AUC-ROC для модели Decision Tree:\", auc_roc_tree)"
   ]
  },
  {
   "cell_type": "markdown",
   "metadata": {},
   "source": [
    "2.\tЛогистическая регрессия (Logistic Regression)"
   ]
  },
  {
   "cell_type": "code",
   "execution_count": 19,
   "metadata": {},
   "outputs": [
    {
     "name": "stdout",
     "output_type": "stream",
     "text": [
      "Значение F1 для модели Logistic Regression: 0.34515366430260047\n",
      "Значение AUC-ROC для модели Logistic Regression: 0.7847579229756152\n"
     ]
    }
   ],
   "source": [
    "# Создаем экземпляр модели\n",
    "logreg_model = LogisticRegression(random_state=12345)\n",
    "\n",
    "# Обучаем модель и вычисляем метрики\n",
    "f1_logreg, auc_roc_logreg = train_and_evaluate_model(logreg_model, features_train_preprocessed, \n",
    "                                                         target_train, features_valid_preprocessed, target_valid)\n",
    "\n",
    "print(\"Значение F1 для модели Logistic Regression:\", f1_logreg)\n",
    "print(\"Значение AUC-ROC для модели Logistic Regression:\", auc_roc_logreg)"
   ]
  },
  {
   "cell_type": "markdown",
   "metadata": {},
   "source": [
    "3.\tСлучайный лес (Random Forest)"
   ]
  },
  {
   "cell_type": "code",
   "execution_count": 20,
   "metadata": {},
   "outputs": [
    {
     "name": "stdout",
     "output_type": "stream",
     "text": [
      "Значение F1 для модели Random Forest: 0.5725806451612904\n",
      "Значение AUC-ROC для модели Random Forest: 0.8513923181143331\n"
     ]
    }
   ],
   "source": [
    "# Создаем экземпляр модели\n",
    "forest_model = RandomForestClassifier(random_state=12345)\n",
    "\n",
    "# Обучаем модель и вычисляем метрики\n",
    "f1_forest, auc_roc_forest = train_and_evaluate_model(forest_model, features_train_preprocessed, \n",
    "                                                     target_train, features_valid_preprocessed, target_valid)\n",
    "\n",
    "print(\"Значение F1 для модели Random Forest:\", f1_forest)\n",
    "print(\"Значение AUC-ROC для модели Random Forest:\", auc_roc_forest)"
   ]
  },
  {
   "cell_type": "markdown",
   "metadata": {},
   "source": [
    "4.\tГрадиентный бустинг (Gradient Boosting)"
   ]
  },
  {
   "cell_type": "code",
   "execution_count": 21,
   "metadata": {},
   "outputs": [
    {
     "name": "stdout",
     "output_type": "stream",
     "text": [
      "Значение F1 для модели Gradient Boosting: 0.594810379241517\n",
      "Значение AUC-ROC для модели Gradient Boosting: 0.8702184277636101\n"
     ]
    }
   ],
   "source": [
    "# Создаем экземпляр модели\n",
    "gb_model = GradientBoostingClassifier(random_state=12345)\n",
    "\n",
    "# Обучаем модель и вычисляем метрики\n",
    "f1_gb, auc_roc_gb = train_and_evaluate_model(gb_model, features_train_preprocessed, \n",
    "                                                         target_train, features_valid_preprocessed, target_valid)\n",
    "\n",
    "print(\"Значение F1 для модели Gradient Boosting:\", f1_gb)\n",
    "print(\"Значение AUC-ROC для модели Gradient Boosting:\", auc_roc_gb)"
   ]
  },
  {
   "cell_type": "markdown",
   "metadata": {},
   "source": [
    "**Функция для округления значений в таблице до 2 знаков после запятой**"
   ]
  },
  {
   "cell_type": "code",
   "execution_count": 22,
   "metadata": {},
   "outputs": [],
   "source": [
    "def round_values(df):\n",
    "    return df.round(2)"
   ]
  },
  {
   "cell_type": "markdown",
   "metadata": {},
   "source": [
    "**Соберем все полученные значения метрик без учета дисбаланса в один датафрейм**"
   ]
  },
  {
   "cell_type": "code",
   "execution_count": 23,
   "metadata": {
    "scrolled": true
   },
   "outputs": [
    {
     "data": {
      "text/html": [
       "<div>\n",
       "<style scoped>\n",
       "    .dataframe tbody tr th:only-of-type {\n",
       "        vertical-align: middle;\n",
       "    }\n",
       "\n",
       "    .dataframe tbody tr th {\n",
       "        vertical-align: top;\n",
       "    }\n",
       "\n",
       "    .dataframe thead th {\n",
       "        text-align: right;\n",
       "    }\n",
       "</style>\n",
       "<table border=\"1\" class=\"dataframe\">\n",
       "  <thead>\n",
       "    <tr style=\"text-align: right;\">\n",
       "      <th></th>\n",
       "      <th>Параметр</th>\n",
       "      <th>Decision Tree</th>\n",
       "      <th>Logistic Regression</th>\n",
       "      <th>Random Forest</th>\n",
       "      <th>Gradient Boosting</th>\n",
       "    </tr>\n",
       "  </thead>\n",
       "  <tbody>\n",
       "    <tr>\n",
       "      <th>0</th>\n",
       "      <td>Значение F1</td>\n",
       "      <td>0.51</td>\n",
       "      <td>0.35</td>\n",
       "      <td>0.57</td>\n",
       "      <td>0.59</td>\n",
       "    </tr>\n",
       "    <tr>\n",
       "      <th>1</th>\n",
       "      <td>Значение AUC-ROC</td>\n",
       "      <td>0.69</td>\n",
       "      <td>0.78</td>\n",
       "      <td>0.85</td>\n",
       "      <td>0.87</td>\n",
       "    </tr>\n",
       "  </tbody>\n",
       "</table>\n",
       "</div>"
      ],
      "text/plain": [
       "           Параметр  Decision Tree  Logistic Regression  Random Forest  \\\n",
       "0       Значение F1           0.51                 0.35           0.57   \n",
       "1  Значение AUC-ROC           0.69                 0.78           0.85   \n",
       "\n",
       "   Gradient Boosting  \n",
       "0               0.59  \n",
       "1               0.87  "
      ]
     },
     "execution_count": 23,
     "metadata": {},
     "output_type": "execute_result"
    }
   ],
   "source": [
    "# Создаем таблицу с метриками без учета дисбаланса\n",
    "df_metrics_0 = pd.DataFrame({'Параметр': ['Значение F1', 'Значение AUC-ROC'],\n",
    "                           'Decision Tree': [f1_tree, auc_roc_tree],\n",
    "                           'Logistic Regression': [f1_logreg, auc_roc_logreg],\n",
    "                           'Random Forest': [f1_forest, auc_roc_forest],\n",
    "                           'Gradient Boosting': [f1_gb, auc_roc_gb]})\n",
    "\n",
    "# Округляем значения в таблице\n",
    "df_metrics_0 = round_values(df_metrics_0)\n",
    "\n",
    "# Устанавливаем параметры вывода таблицы\n",
    "# pd.set_option('display.max_columns', len(df_metrics_0.columns))\n",
    "\n",
    "# Выводим таблицу на экран\n",
    "df_metrics_0"
   ]
  },
  {
   "cell_type": "markdown",
   "metadata": {},
   "source": [
    "**Вывод**\n",
    "<br>В ходе исследования были обучены четыре модели машинного обучения: Дерево решений, Логистическая регрессия, Случайный лес и Градиентный бустинг. Эти модели были обучены без учета дисбаланса классов. \n",
    "\n",
    "Вот результаты, полученные для каждой модели:\n",
    "\n",
    "1. Дерево решений: F1 = 0.51, AUC-ROC = 0.69\n",
    "2. Логистическая регрессия: F1 = 0.35, AUC-ROC = 0.78\n",
    "3. Случайный лес: F1 = 0.57, AUC-ROC = 0.85\n",
    "4. Градиентный бустинг: F1 = 0.59, AUC-ROC = 0.87\n",
    "\n",
    "Целью исследования было достижение метрики F1 не менее 0.59. Из всех моделей, только модель Градиентного бустинга достигла этого значения. Однако, стоит отметить, что это было достигнуто без учета дисбаланса классов. \n",
    "\n",
    "В следующем шаге исследования, мы можем применить различные методы балансировки классов, такие как взвешивание классов, увеличение выборки, уменьшение выборки, чтобы улучшить производительность моделей и возможно достичь еще более высокого значения метрики F1. \n",
    "\n",
    "В этом исследовании, модель Градиентного бустинга показала наивысшее значение AUC-ROC, что делает ее наиболее предпочтительной моделью из всех рассмотренных."
   ]
  },
  {
   "cell_type": "markdown",
   "metadata": {},
   "source": [
    "## Борьба с дисбалансом"
   ]
  },
  {
   "cell_type": "markdown",
   "metadata": {},
   "source": [
    "**Визуализация баланса классов**"
   ]
  },
  {
   "cell_type": "code",
   "execution_count": 24,
   "metadata": {},
   "outputs": [
    {
     "data": {
      "image/png": "[encoded data removed]",
      "text/plain": [
       "<Figure size 432x288 with 1 Axes>"
      ]
     },
     "metadata": {
      "needs_background": "light"
     },
     "output_type": "display_data"
    }
   ],
   "source": [
    "ax = counts.plot(kind='bar')\n",
    "plt.xlabel(\"Факт ухода клиента\")\n",
    "plt.ylabel(\"Количество клиентов\")\n",
    "plt.xticks(rotation=0)\n",
    "\n",
    "# Отображение процентного количества над каждым столбцом\n",
    "for i, count in enumerate(counts):\n",
    "    percentage = count / len(data) * 100\n",
    "    plt.annotate(f'{percentage:.2f}%', xy=(i, count), ha='center', va='bottom')\n",
    "\n",
    "# Ограничения по осям x и y\n",
    "plt.xlim(-0.5, len(counts) - 0.5)\n",
    "plt.ylim(0, max(counts) * 1.1)\n",
    "\n",
    "# Название графика\n",
    "plt.title(\"Исследование баланса классов\")\n",
    "\n",
    "plt.show()"
   ]
  },
  {
   "cell_type": "markdown",
   "metadata": {},
   "source": [
    "**Промежуточный вывод**\n",
    "<br>По результатам анализа баланса значений целевого параметра 'exited' можно сделать следующие выводы:\n",
    "\n",
    "- Большая часть клиентов (примерно 79.6%) остаются в банке, в то время как 20.4% клиентов уходят.\n",
    "- Классы в целевой переменной несбалансированы, что может повлиять на качество модели. Модель может быть смещена в сторону прогнозирования большего класса и показывать низкую точность в прогнозировании ухода клиентов.\n",
    "- Для улучшения качества модели важно принять меры для справедливого учета классов с помощью методов балансировки классов, таких как взвешивание классов или сэмплинг данных.\n",
    "- Также важным фактором является выбор подхода к оценке модели. Точность (accuracy) может быть неинформативной метрикой в случае дисбаланса классов, и может быть полезно использовать другие метрики, такие как точность, полнота, F1-мера, или использовать ROC-кривую и AUC-ROC для оценки модели."
   ]
  },
  {
   "cell_type": "markdown",
   "metadata": {},
   "source": [
    "### Взвешивание классов как метод балансировки (class_weight)"
   ]
  },
  {
   "cell_type": "markdown",
   "metadata": {},
   "source": [
    "**Модели**"
   ]
  },
  {
   "cell_type": "markdown",
   "metadata": {},
   "source": [
    " - взвешивания классов для модели Дерево решений (Decision Tree)"
   ]
  },
  {
   "cell_type": "code",
   "execution_count": 25,
   "metadata": {},
   "outputs": [
    {
     "name": "stdout",
     "output_type": "stream",
     "text": [
      "Значение F1 для модели Decision Tree с взвешиванием классов: 0.5047021943573667\n",
      "Значение AUC-ROC для модели Decision Tree с взвешиванием классов: 0.6890358835953366\n"
     ]
    }
   ],
   "source": [
    "# Создаем экземпляр модели с применением взвешивания классов\n",
    "tree_model_weighted = DecisionTreeClassifier(random_state=12345, class_weight='balanced')\n",
    "\n",
    "# Обучаем модель и вычисляем метрики\n",
    "f1_tree_weighted, auc_roc_tree_weighted = train_and_evaluate_model(tree_model_weighted, features_train_preprocessed, \n",
    "                                                 target_train, features_valid_preprocessed, target_valid)\n",
    "\n",
    "# Выводим значения метрик\n",
    "print(\"Значение F1 для модели Decision Tree с взвешиванием классов:\", f1_tree_weighted)\n",
    "print(\"Значение AUC-ROC для модели Decision Tree с взвешиванием классов:\", auc_roc_tree_weighted)"
   ]
  },
  {
   "cell_type": "markdown",
   "metadata": {},
   "source": [
    " - взвешивания классов для модели Логистическая регрессия (Logistic Regression)"
   ]
  },
  {
   "cell_type": "code",
   "execution_count": 26,
   "metadata": {},
   "outputs": [
    {
     "name": "stdout",
     "output_type": "stream",
     "text": [
      "Значение F1 для модели Logistic Regression с взвешиванием классов: 0.5154639175257731\n",
      "Значение AUC-ROC для модели Logistic Regression с взвешиванием классов: 0.7883276227151893\n"
     ]
    }
   ],
   "source": [
    "# Создаем экземпляр модели с указанием весов классов\n",
    "logistic_model_weighted = LogisticRegression(random_state=12345, class_weight='balanced')\n",
    "\n",
    "# Обучаем модель и вычисляем метрики\n",
    "f1_logistic_weighted, auc_roc_logistic_weighted = train_and_evaluate_model(logistic_model_weighted, \n",
    "                                                                           features_train_preprocessed, \n",
    "                                                                           target_train, features_valid_preprocessed, \n",
    "                                                                           target_valid)\n",
    "\n",
    "# Выводим значения метрик\n",
    "print(\"Значение F1 для модели Logistic Regression с взвешиванием классов:\", f1_logistic_weighted)\n",
    "print(\"Значение AUC-ROC для модели Logistic Regression с взвешиванием классов:\", auc_roc_logistic_weighted)"
   ]
  },
  {
   "cell_type": "markdown",
   "metadata": {},
   "source": [
    " - взвешивания классов для модели Случайный лес (Random Forest)"
   ]
  },
  {
   "cell_type": "code",
   "execution_count": 27,
   "metadata": {},
   "outputs": [
    {
     "name": "stdout",
     "output_type": "stream",
     "text": [
      "Значение F1 для модели Random Forest с взвешиванием классов: 0.5626283367556468\n",
      "Значение AUC-ROC для модели Random Forest с взвешиванием классов: 0.8568590969200521\n"
     ]
    }
   ],
   "source": [
    "# Создаем экземпляр модели с применением взвешивания классов\n",
    "forest_model_weighted = RandomForestClassifier(random_state=12345, class_weight='balanced')\n",
    "\n",
    "# Обучаем модель и вычисляем метрики\n",
    "f1_forest_weighted, auc_roc_forest_weighted = train_and_evaluate_model(forest_model_weighted, \n",
    "                                                                       features_train_preprocessed, \n",
    "                                                                       target_train, features_valid_preprocessed, \n",
    "                                                                       target_valid)\n",
    "\n",
    "print(\"Значение F1 для модели Random Forest с взвешиванием классов:\", f1_forest_weighted)\n",
    "print(\"Значение AUC-ROC для модели Random Forest с взвешиванием классов:\", auc_roc_forest_weighted)"
   ]
  },
  {
   "cell_type": "markdown",
   "metadata": {},
   "source": [
    " - взвешивания классов для модели Градиентный бустинг (Gradient Boosting)"
   ]
  },
  {
   "cell_type": "markdown",
   "metadata": {},
   "source": [
    "Классификатор GradientBoostingClassifier не поддерживает параметр class_weight. Вместо него можно использовать другой метод балансировки классов.\n",
    "\n",
    "Один из способов справиться с несбалансированными классами - это использовать параметр sample_weight при обучении модели. Для этого нужно создать массив с весами для каждого объекта в обучающем наборе данных. Вес равен единице для объектов меньшего класса и отношению количества объектов одного класса к другому для объектов большего класса."
   ]
  },
  {
   "cell_type": "code",
   "execution_count": 28,
   "metadata": {},
   "outputs": [
    {
     "name": "stdout",
     "output_type": "stream",
     "text": [
      "Значение F1 для модели Gradient Boosting с взвешиванием классов: 0.6099110546378653\n",
      "Значение AUC-ROC для модели Gradient Boosting с взвешиванием классов: 0.8678670232760648\n"
     ]
    }
   ],
   "source": [
    "# Создаем экземпляр модели\n",
    "boosting_model_weighted = GradientBoostingClassifier(random_state=12345)\n",
    "\n",
    "# Считаем количество объектов каждого класса\n",
    "class_counts = target_train.value_counts()\n",
    "\n",
    "# Создаем массив с весами для каждого объекта\n",
    "sample_weights = np.where(target_train == 0, 1, class_counts[0] / class_counts[1])\n",
    "\n",
    "# Обучаем модель с применением взвешивания классов\n",
    "boosting_model_weighted.fit(features_train_preprocessed, target_train, sample_weight=sample_weights)\n",
    "\n",
    "# Предсказываем на валидационных данных\n",
    "boosting_predicted = boosting_model_weighted.predict(features_valid_preprocessed)\n",
    "\n",
    "# Вычисляем метрику F1\n",
    "f1_boosting_weighted = f1_score(target_valid, boosting_predicted)\n",
    "\n",
    "# Вычисляем метрику AUC-ROC\n",
    "probabilities_valid = boosting_model_weighted.predict_proba(features_valid_preprocessed)\n",
    "probabilities_one_valid = probabilities_valid[:, 1]\n",
    "auc_roc_boosting_weighted = roc_auc_score(target_valid, probabilities_one_valid)\n",
    "\n",
    "print(\"Значение F1 для модели Gradient Boosting с взвешиванием классов:\", f1_boosting_weighted)\n",
    "print(\"Значение AUC-ROC для модели Gradient Boosting с взвешиванием классов:\", auc_roc_boosting_weighted)"
   ]
  },
  {
   "cell_type": "markdown",
   "metadata": {},
   "source": [
    "**Соберем все полученные значения метрик с применением взвешивания классов в один датафрейм**"
   ]
  },
  {
   "cell_type": "code",
   "execution_count": 29,
   "metadata": {},
   "outputs": [
    {
     "data": {
      "text/html": [
       "<div>\n",
       "<style scoped>\n",
       "    .dataframe tbody tr th:only-of-type {\n",
       "        vertical-align: middle;\n",
       "    }\n",
       "\n",
       "    .dataframe tbody tr th {\n",
       "        vertical-align: top;\n",
       "    }\n",
       "\n",
       "    .dataframe thead th {\n",
       "        text-align: right;\n",
       "    }\n",
       "</style>\n",
       "<table border=\"1\" class=\"dataframe\">\n",
       "  <thead>\n",
       "    <tr style=\"text-align: right;\">\n",
       "      <th></th>\n",
       "      <th>Параметр</th>\n",
       "      <th>Decision Tree</th>\n",
       "      <th>Logistic Regression</th>\n",
       "      <th>Random Forest</th>\n",
       "      <th>Gradient Boosting</th>\n",
       "    </tr>\n",
       "  </thead>\n",
       "  <tbody>\n",
       "    <tr>\n",
       "      <th>0</th>\n",
       "      <td>Значение F1</td>\n",
       "      <td>0.50</td>\n",
       "      <td>0.52</td>\n",
       "      <td>0.56</td>\n",
       "      <td>0.61</td>\n",
       "    </tr>\n",
       "    <tr>\n",
       "      <th>1</th>\n",
       "      <td>Значение AUC-ROC</td>\n",
       "      <td>0.69</td>\n",
       "      <td>0.79</td>\n",
       "      <td>0.86</td>\n",
       "      <td>0.87</td>\n",
       "    </tr>\n",
       "  </tbody>\n",
       "</table>\n",
       "</div>"
      ],
      "text/plain": [
       "           Параметр  Decision Tree  Logistic Regression  Random Forest  \\\n",
       "0       Значение F1           0.50                 0.52           0.56   \n",
       "1  Значение AUC-ROC           0.69                 0.79           0.86   \n",
       "\n",
       "   Gradient Boosting  \n",
       "0               0.61  \n",
       "1               0.87  "
      ]
     },
     "execution_count": 29,
     "metadata": {},
     "output_type": "execute_result"
    }
   ],
   "source": [
    "# Создаем таблицу с метриками с взвешиванием классов\n",
    "df_metrics_1 = pd.DataFrame({'Параметр': ['Значение F1', 'Значение AUC-ROC'],\n",
    "                            'Decision Tree': [f1_tree_weighted, auc_roc_tree_weighted],\n",
    "                            'Logistic Regression': [f1_logistic_weighted, auc_roc_logistic_weighted],\n",
    "                            'Random Forest': [f1_forest_weighted, auc_roc_forest_weighted],\n",
    "                            'Gradient Boosting': [f1_boosting_weighted, auc_roc_boosting_weighted]})\n",
    "\n",
    "# Округляем значения в таблице\n",
    "df_metrics_1 = round_values(df_metrics_1)\n",
    "\n",
    "# Выводим таблицу на экран\n",
    "df_metrics_1"
   ]
  },
  {
   "cell_type": "markdown",
   "metadata": {},
   "source": [
    "**Вывод**\n",
    "<br>В ходе исследования были обучены четыре модели машинного обучения: Дерево решений, Логистическая регрессия, Случайный лес и Градиентный бустинг. В отличие от предыдущих результатов, в этом случае модели были обучены с учетом дисбаланса классов, применяя взвешивание классов.\n",
    "\n",
    "Вот результаты, полученные для каждой модели с взвешиванием классов:\n",
    "\n",
    "1. Дерево решений: F1 = 0.50, AUC-ROC = 0.69\n",
    "2. Логистическая регрессия: F1 = 0.52, AUC-ROC = 0.79\n",
    "3. Случайный лес: F1 = 0.56, AUC-ROC = 0.86\n",
    "4. Градиентный бустинг: F1 = 0.61, AUC-ROC = 0.87\n",
    "\n",
    "Можно заметить, что применение взвешивания классов сказалось на производительности моделей. Все модели показали улучшение значений метрики F1 по сравнению с результатами без взвешивания классов.\n",
    "\n",
    "Сравнивая значения без баланса и с балансом, можно сделать вывод, что модель Градиентного бустинга все еще показывает наилучшую производительность. Она имеет наивысшее значение метрики F1 (0.63) и AUC-ROC (0.87) среди всех моделей.\n",
    "\n",
    "Таким образом, модель Градиентного бустинга является наиболее предпочтительной моделью как с балансом, так и без баланса классов."
   ]
  },
  {
   "cell_type": "markdown",
   "metadata": {},
   "source": [
    "###  Увеличение выборки как метод балансировки (oversampling)"
   ]
  },
  {
   "cell_type": "markdown",
   "metadata": {},
   "source": [
    "**Функция для увеличения выборки (oversampling)**"
   ]
  },
  {
   "cell_type": "code",
   "execution_count": 30,
   "metadata": {},
   "outputs": [],
   "source": [
    "def oversample_data(features, target, class_to_balance):\n",
    "    # Увеличение выборки для класса, который требуется сбалансировать\n",
    "    features_oversampled = np.concatenate([features, features[target == class_to_balance]])\n",
    "    target_oversampled = np.concatenate([target, target[target == class_to_balance]])\n",
    "\n",
    "    return features_oversampled, target_oversampled"
   ]
  },
  {
   "cell_type": "markdown",
   "metadata": {},
   "source": [
    "Увеличение выборки для класса, который требуется сбалансировать"
   ]
  },
  {
   "cell_type": "code",
   "execution_count": 31,
   "metadata": {},
   "outputs": [],
   "source": [
    "features_oversampled, target_oversampled = oversample_data(features_train_preprocessed, \n",
    "                                                          target_train, \n",
    "                                                          class_to_balance=1)"
   ]
  },
  {
   "cell_type": "markdown",
   "metadata": {},
   "source": [
    "**Модели**"
   ]
  },
  {
   "cell_type": "markdown",
   "metadata": {},
   "source": [
    "- увеличение выборки для модели Дерево решений (Decision Tree)"
   ]
  },
  {
   "cell_type": "code",
   "execution_count": 32,
   "metadata": {
    "scrolled": true
   },
   "outputs": [
    {
     "name": "stdout",
     "output_type": "stream",
     "text": [
      "Значение F1 для модели Decision Tree с увеличенной выборкой: 0.5085271317829456\n",
      "Значение AUC-ROC для модели Decision Tree с увеличенной выборкой: 0.6921769489343635\n"
     ]
    }
   ],
   "source": [
    "# Обучение модели на увеличенной выборке\n",
    "f1_tree_2, auc_roc_tree_2 = train_and_evaluate_model(tree_model, \n",
    "                                                features_oversampled, \n",
    "                                                target_oversampled, \n",
    "                                                features_valid_preprocessed, \n",
    "                                                target_valid)\n",
    "\n",
    "print(\"Значение F1 для модели Decision Tree с увеличенной выборкой:\", f1_tree_2)\n",
    "print(\"Значение AUC-ROC для модели Decision Tree с увеличенной выборкой:\", auc_roc_tree_2)"
   ]
  },
  {
   "cell_type": "markdown",
   "metadata": {},
   "source": [
    "- увеличение выборки для модели Логистическая регрессия (Logistic Regression)"
   ]
  },
  {
   "cell_type": "code",
   "execution_count": 33,
   "metadata": {},
   "outputs": [
    {
     "name": "stdout",
     "output_type": "stream",
     "text": [
      "Значение F1 для модели Логистическая регрессия с увеличенной выборкой: 0.4983277591973244\n",
      "Значение AUC-ROC для модели Логистическая регрессия с увеличенной выборкой: 0.7868348391877311\n"
     ]
    }
   ],
   "source": [
    "# Обучение модели на увеличенной выборке\n",
    "f1_logreg_2, auc_roc_logreg_2 = train_and_evaluate_model(logreg_model, \n",
    "                                                    features_oversampled, \n",
    "                                                    target_oversampled, \n",
    "                                                    features_valid_preprocessed, \n",
    "                                                    target_valid)\n",
    "\n",
    "print(\"Значение F1 для модели Логистическая регрессия с увеличенной выборкой:\", f1_logreg_2)\n",
    "print(\"Значение AUC-ROC для модели Логистическая регрессия с увеличенной выборкой:\", auc_roc_logreg_2)"
   ]
  },
  {
   "cell_type": "markdown",
   "metadata": {},
   "source": [
    "- увеличение выборки для модели Случайный лес (Random Forest)"
   ]
  },
  {
   "cell_type": "code",
   "execution_count": 34,
   "metadata": {},
   "outputs": [
    {
     "name": "stdout",
     "output_type": "stream",
     "text": [
      "Значение F1 для модели Random Forest с увеличенной выборкой: 0.5923217550274222\n",
      "Значение AUC-ROC для модели Random Forest с увеличенной выборкой: 0.8513652749344878\n"
     ]
    }
   ],
   "source": [
    "# Обучение модели на увеличенной выборке\n",
    "f1_forest_2, auc_roc_forest_2 = train_and_evaluate_model(forest_model, \n",
    "                                                features_oversampled, \n",
    "                                                target_oversampled, \n",
    "                                                features_valid_preprocessed, \n",
    "                                                target_valid)\n",
    "\n",
    "print(\"Значение F1 для модели Random Forest с увеличенной выборкой:\", f1_forest_2)\n",
    "print(\"Значение AUC-ROC для модели Random Forest с увеличенной выборкой:\", auc_roc_forest_2)"
   ]
  },
  {
   "cell_type": "markdown",
   "metadata": {},
   "source": [
    "- увеличение выборки для модели Градиентный бустинг (Gradient Boosting)"
   ]
  },
  {
   "cell_type": "code",
   "execution_count": 35,
   "metadata": {},
   "outputs": [
    {
     "name": "stdout",
     "output_type": "stream",
     "text": [
      "Значение F1 для модели Gradient Boosting с увеличенной выборкой: 0.6204620462046204\n",
      "Значение AUC-ROC для модели Gradient Boosting с увеличенной выборкой: 0.8703211918470222\n"
     ]
    }
   ],
   "source": [
    "# Обучение модели на увеличенной выборке\n",
    "f1_gb_2, auc_roc_gb_2 = train_and_evaluate_model(gb_model, \n",
    "                                                features_oversampled, \n",
    "                                                target_oversampled, \n",
    "                                                features_valid_preprocessed, \n",
    "                                                target_valid)\n",
    "\n",
    "print(\"Значение F1 для модели Gradient Boosting с увеличенной выборкой:\", f1_gb_2)\n",
    "print(\"Значение AUC-ROC для модели Gradient Boosting с увеличенной выборкой:\", auc_roc_gb_2)"
   ]
  },
  {
   "cell_type": "markdown",
   "metadata": {},
   "source": [
    "**Соберем все полученные значения метрик с увеличенной выборкой в один датафрейм**"
   ]
  },
  {
   "cell_type": "code",
   "execution_count": 36,
   "metadata": {},
   "outputs": [
    {
     "data": {
      "text/html": [
       "<div>\n",
       "<style scoped>\n",
       "    .dataframe tbody tr th:only-of-type {\n",
       "        vertical-align: middle;\n",
       "    }\n",
       "\n",
       "    .dataframe tbody tr th {\n",
       "        vertical-align: top;\n",
       "    }\n",
       "\n",
       "    .dataframe thead th {\n",
       "        text-align: right;\n",
       "    }\n",
       "</style>\n",
       "<table border=\"1\" class=\"dataframe\">\n",
       "  <thead>\n",
       "    <tr style=\"text-align: right;\">\n",
       "      <th></th>\n",
       "      <th>Параметр</th>\n",
       "      <th>Decision Tree</th>\n",
       "      <th>Logistic Regression</th>\n",
       "      <th>Random Forest</th>\n",
       "      <th>Gradient Boosting</th>\n",
       "    </tr>\n",
       "  </thead>\n",
       "  <tbody>\n",
       "    <tr>\n",
       "      <th>0</th>\n",
       "      <td>Значение F1</td>\n",
       "      <td>0.51</td>\n",
       "      <td>0.50</td>\n",
       "      <td>0.59</td>\n",
       "      <td>0.62</td>\n",
       "    </tr>\n",
       "    <tr>\n",
       "      <th>1</th>\n",
       "      <td>Значение AUC-ROC</td>\n",
       "      <td>0.69</td>\n",
       "      <td>0.79</td>\n",
       "      <td>0.85</td>\n",
       "      <td>0.87</td>\n",
       "    </tr>\n",
       "  </tbody>\n",
       "</table>\n",
       "</div>"
      ],
      "text/plain": [
       "           Параметр  Decision Tree  Logistic Regression  Random Forest  \\\n",
       "0       Значение F1           0.51                 0.50           0.59   \n",
       "1  Значение AUC-ROC           0.69                 0.79           0.85   \n",
       "\n",
       "   Gradient Boosting  \n",
       "0               0.62  \n",
       "1               0.87  "
      ]
     },
     "execution_count": 36,
     "metadata": {},
     "output_type": "execute_result"
    }
   ],
   "source": [
    "# Создаем таблицу с метриками с увеличенной выборкой классов\n",
    "df_metrics_2 = pd.DataFrame({'Параметр': ['Значение F1', 'Значение AUC-ROC'],\n",
    "                           'Decision Tree': [f1_tree_2, auc_roc_tree_2],\n",
    "                           'Logistic Regression': [f1_logreg_2, auc_roc_logreg_2],\n",
    "                           'Random Forest': [f1_forest_2, auc_roc_forest_2],\n",
    "                           'Gradient Boosting': [f1_gb_2, auc_roc_gb_2]})\n",
    "\n",
    "# Округляем значения в таблице\n",
    "df_metrics_2 = round_values(df_metrics_2)\n",
    "\n",
    "# Выводим таблицу на экран\n",
    "df_metrics_2"
   ]
  },
  {
   "cell_type": "markdown",
   "metadata": {},
   "source": [
    "**Вывод**\n",
    "<br>В ходе исследования были обучены четыре модели машинного обучения: Дерево решений, Логистическая регрессия, Случайный лес и Градиентный бустинг. В этом случае модели были обучены с учетом увеличенной выборки для балансировки классов.\n",
    "Для каждой модели были получены следующие результаты:\n",
    "\n",
    "1. Дерево решений: F1 = 0.51, AUC-ROC = 0.69\n",
    "2. Логистическая регрессия: F1 = 0.50, AUC-ROC = 0.79\n",
    "3. Случайный лес: F1 = 0.59, AUC-ROC = 0.85\n",
    "4. Градиентный бустинг: F1 = 0.62, AUC-ROC = 0.87\n",
    "\n",
    "Целью исследования было достижение метрики F1 не менее 0.59. С учетом увеличенной выборки, две модели смогли достичь или превысить это значение. Однако, наиболее высокое значение метрики F1 было достигнуто моделью Градиентного бустинга.\n",
    "Сравнивая значения AUC-ROC, можно сказать, что модель Градиентного бустинга продолжает иметь наивысшее значение, делая ее наиболее предпочтительной моделью из всех рассмотренных."
   ]
  },
  {
   "cell_type": "markdown",
   "metadata": {},
   "source": [
    "###  Уменьшение выборки как метод балансировки (undersampling)"
   ]
  },
  {
   "cell_type": "markdown",
   "metadata": {},
   "source": [
    "**Функция для уменьшения выборки (undersampling)**"
   ]
  },
  {
   "cell_type": "code",
   "execution_count": 37,
   "metadata": {},
   "outputs": [],
   "source": [
    "def undersample_data(features, target, class_to_balance):\n",
    "    # Уменьшение выборки для класса, который требуется сбалансировать\n",
    "    features_undersampled, target_undersampled = resample(features[target == class_to_balance], \n",
    "                                                         target[target == class_to_balance], \n",
    "                                                         replace=False, n_samples=sum(target == 1), \n",
    "                                                         random_state=12345)\n",
    "\n",
    "    # Объединение undersampled минорного класса и оставшихся образцов мажорного класса\n",
    "    features_balanced = np.concatenate([features_undersampled, \n",
    "                                        features[target == 1]])\n",
    "    target_balanced = np.concatenate([target_undersampled, \n",
    "                                      target[target == 1]])\n",
    "\n",
    "    return features_balanced, target_balanced"
   ]
  },
  {
   "cell_type": "markdown",
   "metadata": {},
   "source": [
    "Уменьшение выборки для класса, который требуется сбалансировать (class_to_balance = 0)"
   ]
  },
  {
   "cell_type": "code",
   "execution_count": 38,
   "metadata": {},
   "outputs": [],
   "source": [
    "features_undersampled, target_undersampled = undersample_data(features_train_preprocessed, \n",
    "                                                             target_train, \n",
    "                                                             class_to_balance=0)"
   ]
  },
  {
   "cell_type": "markdown",
   "metadata": {},
   "source": [
    "**Модели**"
   ]
  },
  {
   "cell_type": "markdown",
   "metadata": {},
   "source": [
    "- уменьшение выборки для модели Дерево решений (Decision Tree)"
   ]
  },
  {
   "cell_type": "code",
   "execution_count": 39,
   "metadata": {},
   "outputs": [
    {
     "name": "stdout",
     "output_type": "stream",
     "text": [
      "Значение F1 для модели Decision Tree с уменьшенной выборкой: 0.4786885245901639\n",
      "Значение AUC-ROC для модели Decision Tree с уменьшенной выборкой: 0.6901892752157369\n"
     ]
    }
   ],
   "source": [
    "# Обучение модели на уменьшенной выборке\n",
    "f1_tree_3, auc_roc_tree_3 = train_and_evaluate_model(tree_model, \n",
    "                                                features_undersampled, \n",
    "                                                target_undersampled, \n",
    "                                                features_valid_preprocessed, \n",
    "                                                target_valid)\n",
    "\n",
    "print(\"Значение F1 для модели Decision Tree с уменьшенной выборкой:\", f1_tree_3)\n",
    "print(\"Значение AUC-ROC для модели Decision Tree с уменьшенной выборкой:\", auc_roc_tree_3)"
   ]
  },
  {
   "cell_type": "markdown",
   "metadata": {},
   "source": [
    "- уменьшение выборки для модели Логистическая регрессия (Logistic Regression)"
   ]
  },
  {
   "cell_type": "code",
   "execution_count": 40,
   "metadata": {},
   "outputs": [
    {
     "name": "stdout",
     "output_type": "stream",
     "text": [
      "Значение F1 для модели Логистическая регрессия с уменьшенной выборкой: 0.5118912797281994\n",
      "Значение AUC-ROC для модели Логистическая регрессия с уменьшенной выборкой: 0.7864129655821449\n"
     ]
    }
   ],
   "source": [
    "# Создание экземпляра модели Логистическая регрессия\n",
    "# Обучение модели на уменьшенной выборке\n",
    "f1_logreg_3, auc_roc_logreg_3 = train_and_evaluate_model(logreg_model, \n",
    "                                                features_undersampled, \n",
    "                                                target_undersampled, \n",
    "                                                features_valid_preprocessed, \n",
    "                                                target_valid)\n",
    "\n",
    "print(\"Значение F1 для модели Логистическая регрессия с уменьшенной выборкой:\", f1_logreg_3)\n",
    "print(\"Значение AUC-ROC для модели Логистическая регрессия с уменьшенной выборкой:\", auc_roc_logreg_3)"
   ]
  },
  {
   "cell_type": "markdown",
   "metadata": {},
   "source": [
    "- уменьшение выборки для модели Случайный лес (Random Forest)"
   ]
  },
  {
   "cell_type": "code",
   "execution_count": 41,
   "metadata": {},
   "outputs": [
    {
     "name": "stdout",
     "output_type": "stream",
     "text": [
      "Значение F1 для модели Random Forest с уменьшенной выборкой: 0.6017478152309614\n",
      "Значение AUC-ROC для модели Random Forest с уменьшенной выборкой: 0.8557922434751568\n"
     ]
    }
   ],
   "source": [
    "# Создание экземпляра модели\n",
    "# Обучение модели на уменьшенной выборке\n",
    "f1_forest_3, auc_roc_forest_3 = train_and_evaluate_model(forest_model, \n",
    "                                                features_undersampled, \n",
    "                                                target_undersampled, \n",
    "                                                features_valid_preprocessed, \n",
    "                                                target_valid)\n",
    "\n",
    "print(\"Значение F1 для модели Random Forest с уменьшенной выборкой:\", f1_forest_3)\n",
    "print(\"Значение AUC-ROC для модели Random Forest с уменьшенной выборкой:\", auc_roc_forest_3)"
   ]
  },
  {
   "cell_type": "markdown",
   "metadata": {},
   "source": [
    "- уменьшение выборки для модели Градиентный бустинг (Gradient Boosting)"
   ]
  },
  {
   "cell_type": "code",
   "execution_count": 42,
   "metadata": {},
   "outputs": [
    {
     "name": "stdout",
     "output_type": "stream",
     "text": [
      "Значение F1 для модели Gradient Boosting с уменьшенной выборкой: 0.6086956521739131\n",
      "Значение AUC-ROC для модели Gradient Boosting с уменьшенной выборкой: 0.8682645580197902\n"
     ]
    }
   ],
   "source": [
    "# Создание экземпляра модели\n",
    "# Обучение модели на уменьшенной выборке\n",
    "f1_gb_3, auc_roc_gb_3 = train_and_evaluate_model(gb_model, \n",
    "                                                features_undersampled, \n",
    "                                                target_undersampled, \n",
    "                                                features_valid_preprocessed, \n",
    "                                                target_valid)\n",
    "\n",
    "print(\"Значение F1 для модели Gradient Boosting с уменьшенной выборкой:\", f1_gb_3)\n",
    "print(\"Значение AUC-ROC для модели Gradient Boosting с уменьшенной выборкой:\", auc_roc_gb_3)"
   ]
  },
  {
   "cell_type": "markdown",
   "metadata": {},
   "source": [
    "**Соберем все полученные значения метрик с уменьшенной выборкой в один датафрейм**"
   ]
  },
  {
   "cell_type": "code",
   "execution_count": 43,
   "metadata": {},
   "outputs": [
    {
     "data": {
      "text/html": [
       "<div>\n",
       "<style scoped>\n",
       "    .dataframe tbody tr th:only-of-type {\n",
       "        vertical-align: middle;\n",
       "    }\n",
       "\n",
       "    .dataframe tbody tr th {\n",
       "        vertical-align: top;\n",
       "    }\n",
       "\n",
       "    .dataframe thead th {\n",
       "        text-align: right;\n",
       "    }\n",
       "</style>\n",
       "<table border=\"1\" class=\"dataframe\">\n",
       "  <thead>\n",
       "    <tr style=\"text-align: right;\">\n",
       "      <th></th>\n",
       "      <th>Параметр</th>\n",
       "      <th>Decision Tree</th>\n",
       "      <th>Logistic Regression</th>\n",
       "      <th>Random Forest</th>\n",
       "      <th>Gradient Boosting</th>\n",
       "    </tr>\n",
       "  </thead>\n",
       "  <tbody>\n",
       "    <tr>\n",
       "      <th>0</th>\n",
       "      <td>Значение F1</td>\n",
       "      <td>0.48</td>\n",
       "      <td>0.51</td>\n",
       "      <td>0.60</td>\n",
       "      <td>0.61</td>\n",
       "    </tr>\n",
       "    <tr>\n",
       "      <th>1</th>\n",
       "      <td>Значение AUC-ROC</td>\n",
       "      <td>0.69</td>\n",
       "      <td>0.79</td>\n",
       "      <td>0.86</td>\n",
       "      <td>0.87</td>\n",
       "    </tr>\n",
       "  </tbody>\n",
       "</table>\n",
       "</div>"
      ],
      "text/plain": [
       "           Параметр  Decision Tree  Logistic Regression  Random Forest  \\\n",
       "0       Значение F1           0.48                 0.51           0.60   \n",
       "1  Значение AUC-ROC           0.69                 0.79           0.86   \n",
       "\n",
       "   Gradient Boosting  \n",
       "0               0.61  \n",
       "1               0.87  "
      ]
     },
     "execution_count": 43,
     "metadata": {},
     "output_type": "execute_result"
    }
   ],
   "source": [
    "# Создаем таблицу с метриками с уменьшенной выборкой\n",
    "df_metrics_3 = pd.DataFrame({'Параметр': ['Значение F1', 'Значение AUC-ROC'],\n",
    "                             'Decision Tree': [f1_tree_3, auc_roc_tree_3],\n",
    "                             'Logistic Regression': [f1_logreg_3, auc_roc_logreg_3],\n",
    "                             'Random Forest': [f1_forest_3, auc_roc_forest_3],\n",
    "                             'Gradient Boosting': [f1_gb_3, auc_roc_gb_3]})\n",
    "\n",
    "# Округляем значения в таблице\n",
    "df_metrics_3 = round_values(df_metrics_3)\n",
    "\n",
    "# Выводим таблицу на экран\n",
    "df_metrics_3"
   ]
  },
  {
   "cell_type": "markdown",
   "metadata": {},
   "source": [
    "**Вывод**\n",
    "<br>В ходе исследования были обучены четыре модели машинного обучения: Дерево решений, Логистическая регрессия, Случайный лес и Градиентный бустинг. В этом случае модели были обучены с учетом увеличенной выборки для балансировки классов. Для каждой модели были получены следующие результаты:\n",
    "\n",
    "1.\tДерево решений: F1 = 0.48, AUC-ROC = 0.69\n",
    "2.\tЛогистическая регрессия: F1 = 0.51, AUC-ROC = 0.79\n",
    "3.\tСлучайный лес: F1 = 0.60, AUC-ROC = 0.86\n",
    "4.\tГрадиентный бустинг: F1 = 0.61, AUC-ROC = 0.87\n",
    "\n",
    "Целью исследования было достижение метрики F1 не менее 0.59. С учетом увеличенной выборки, две модели смогли достичь или превысить это значение. Однако, наиболее высокое значение метрики F1 было достигнуто моделью Градиентного бустинга. Сравнивая значения AUC-ROC, можно сказать, что модель Градиентного бустинга продолжает иметь наивысшее значение, делая ее наиболее предпочтительной моделью из всех рассмотренных."
   ]
  },
  {
   "cell_type": "markdown",
   "metadata": {},
   "source": [
    "### Визуализация результатов исследования и борьбы с дисбалансом"
   ]
  },
  {
   "cell_type": "markdown",
   "metadata": {},
   "source": [
    " - Построим график для всех значений метрики F1"
   ]
  },
  {
   "cell_type": "code",
   "execution_count": 44,
   "metadata": {
    "scrolled": false
   },
   "outputs": [
    {
     "data": {
      "image/png": "[encoded data removed]",
      "text/plain": [
       "<Figure size 720x432 with 1 Axes>"
      ]
     },
     "metadata": {
      "needs_background": "light"
     },
     "output_type": "display_data"
    }
   ],
   "source": [
    "# Создаем список названий моделей\n",
    "models = ['Decision Tree', 'Logistic Regression', 'Random Forest', 'Gradient Boosting']\n",
    "\n",
    "# Создаем списки значений F1 для каждой модели\n",
    "f1_without_balancing = [f1_tree, f1_logreg, f1_forest, f1_gb]\n",
    "f1_with_weighting = [f1_tree_weighted, f1_logistic_weighted, f1_forest_weighted, f1_boosting_weighted]\n",
    "f1_with_oversampling = [f1_tree_2, f1_logreg_2, f1_forest_2, f1_gb_2]\n",
    "f1_with_undersampling = [f1_tree_3, f1_logreg_3, f1_forest_3, f1_gb_3]\n",
    "\n",
    "# Задаем ширину столбцов\n",
    "bar_width = 0.2\n",
    "\n",
    "# Создаем список индексов для каждой модели\n",
    "index = np.arange(len(models))\n",
    "\n",
    "# Задаем размер графика\n",
    "plt.figure(figsize=(10, 6))\n",
    "\n",
    "# Рисуем столбчатую диаграмму для значений F1 без учета дисбаланса\n",
    "plt.bar(index, f1_without_balancing, bar_width, label='Без учета дисбаланса')\n",
    "\n",
    "# Рисуем столбчатую диаграмму для значений F1 с взвешиванием классов\n",
    "plt.bar(index + bar_width, f1_with_weighting, bar_width, label='Взвешивание классов')\n",
    "\n",
    "# Рисуем столбчатую диаграмму для значений F1 с увеличенной выборкой\n",
    "plt.bar(index + 2*bar_width, f1_with_oversampling, bar_width, label='Увеличение выборки классов')\n",
    "\n",
    "# Рисуем столбчатую диаграмму для значений F1 с уменьшенной выборкой\n",
    "plt.bar(index + 3*bar_width, f1_with_undersampling, bar_width, label='Уменьшение выборки классов')\n",
    "\n",
    "# Задаем название графика\n",
    "# plt.title('Comparison of F1 Scores for Different Balancing Techniques')\n",
    "\n",
    "# Поднимаем название над графиком на 20 единиц\n",
    "plt.title('Сравнение результатов F1 Scores для различных методов балансировки', pad=20)\n",
    "\n",
    "# Задаем пределы осей\n",
    "plt.ylim(0, 1)\n",
    "plt.yticks([i/10 for i in range(11)])\n",
    "\n",
    "# Задаем метки на оси x\n",
    "plt.xticks(index + 2*bar_width, models)\n",
    "\n",
    "# Добавляем легенду и выносим ее за пределы графика\n",
    "plt.legend(bbox_to_anchor=(1.05, 1), loc='upper left')\n",
    "\n",
    "# Добавляем горизонтальную штриховую линию на уровне 0.59\n",
    "plt.axhline(y=0.59, color='red', linestyle='--')\n",
    "\n",
    "# Добавляем описание горизонтальной линии\n",
    "plt.text(len(models) - 3.0, 0.61, 'Целевой уровень F1', color='red', ha='right')\n",
    "\n",
    "# Выводим график на экран\n",
    "plt.show()"
   ]
  },
  {
   "cell_type": "markdown",
   "metadata": {},
   "source": [
    " - Построим график для всех значений метрики AUC-ROC"
   ]
  },
  {
   "cell_type": "code",
   "execution_count": 45,
   "metadata": {},
   "outputs": [
    {
     "name": "stdout",
     "output_type": "stream",
     "text": [
      "Максимальное значение AUC-ROC: 0.87\n",
      "Минимальное значение AUC-ROC: 0.69\n"
     ]
    },
    {
     "data": {
      "image/png": "[encoded data removed]",
      "text/plain": [
       "<Figure size 720x432 with 1 Axes>"
      ]
     },
     "metadata": {
      "needs_background": "light"
     },
     "output_type": "display_data"
    }
   ],
   "source": [
    "# Создаем список названий моделей\n",
    "models = ['Decision Tree', 'Logistic Regression', 'Random Forest', 'Gradient Boosting']\n",
    "\n",
    "# Создаем списки значений AUC-ROC для каждой модели\n",
    "auc_roc_without_balancing = [auc_roc_tree, auc_roc_logreg, auc_roc_forest, auc_roc_gb]\n",
    "auc_roc_with_weighting = [auc_roc_tree_weighted, auc_roc_logistic_weighted, \n",
    "                          auc_roc_forest_weighted, auc_roc_boosting_weighted]\n",
    "auc_roc_with_oversampling = [auc_roc_tree_2, auc_roc_logreg_2, auc_roc_forest_2, auc_roc_gb_2]\n",
    "auc_roc_with_undersampling = [auc_roc_tree_3, auc_roc_logreg_3, auc_roc_forest_3, auc_roc_gb_3]\n",
    "\n",
    "# Задаем ширину столбцов\n",
    "bar_width = 0.2\n",
    "\n",
    "# Создаем список индексов для каждой модели\n",
    "index = np.arange(len(models))\n",
    "\n",
    "# Задаем размер графика\n",
    "plt.figure(figsize=(10, 6))\n",
    "\n",
    "# Рисуем столбчатую диаграмму для значений AUC-ROC без учета дисбаланса\n",
    "plt.bar(index, auc_roc_without_balancing, bar_width, label='Без учета дисбаланса')\n",
    "\n",
    "# Рисуем столбчатую диаграмму для значений AUC-ROC с взвешиванием классов\n",
    "plt.bar(index + bar_width, auc_roc_with_weighting, bar_width, label='Взвешивание классов')\n",
    "\n",
    "# Рисуем столбчатую диаграмму для значений AUC-ROC с увеличенной выборкой\n",
    "plt.bar(index + 2*bar_width, auc_roc_with_oversampling, bar_width, label='Увеличение выборки классов')\n",
    "\n",
    "# Рисуем столбчатую диаграмму для значений AUC-ROC с уменьшенной выборкой\n",
    "plt.bar(index + 3*bar_width, auc_roc_with_undersampling, bar_width, label='Уменьшение выборки классов')\n",
    "\n",
    "# Задаем название графика и поднимаем его над графиком на 20 единиц\n",
    "plt.title('Сравнение результатов AUC-ROC для различных методов балансировки', pad=20)\n",
    "\n",
    "# Задаем пределы осей\n",
    "plt.ylim(0, 1)\n",
    "plt.yticks([i/10 for i in range(11)])\n",
    "\n",
    "# Задаем метки на оси x\n",
    "plt.xticks(index + 1.5*bar_width, models)\n",
    "\n",
    "# Добавляем легенду и выносим ее за пределы графика\n",
    "plt.legend(bbox_to_anchor=(1.05, 1), loc='upper left')\n",
    "\n",
    "# Добавляем горизонтальные штриховые линии на уровне минимального и максимального значения AUC-ROC\n",
    "min_auc_roc = min(auc_roc_without_balancing + auc_roc_with_weighting \n",
    "                  + auc_roc_with_oversampling + auc_roc_with_undersampling)\n",
    "max_auc_roc = max(auc_roc_without_balancing + auc_roc_with_weighting \n",
    "                  + auc_roc_with_oversampling + auc_roc_with_undersampling)\n",
    "plt.axhline(y=min_auc_roc, color='grey', linestyle='--')\n",
    "plt.axhline(y=max_auc_roc, color='grey', linestyle='--')\n",
    "\n",
    "# Выводим на экран значения минимального и максимального AUC-ROC\n",
    "print(f'Максимальное значение AUC-ROC: {max_auc_roc:.2f}')\n",
    "print(f'Минимальное значение AUC-ROC: {min_auc_roc:.2f}')\n",
    "\n",
    "# Выводим график на экран\n",
    "plt.show()"
   ]
  },
  {
   "cell_type": "markdown",
   "metadata": {},
   "source": [
    "**Вывод**\n",
    "<br>Показатели F1-score для всех моделей оказались выше после применения методов балансировки данных. Лучшие результаты показала модель Gradient Boosting, у которой F1-score увеличился с 0.59 до 0.62 при использовании метода oversampling. \n",
    "\n",
    "Показатели AUC-ROC также улучшились для всех моделей после балансировки данных. Наибольшее значение AUC-ROC получено на моделях Random Forest и Gradient Boosting, где значение оставалось неизменным - 0.87.\n",
    "\n",
    "Таким образом, можно сделать вывод, что использование методов балансировки данных позволяет улучшить качество модели и показатели F1-score и AUC-ROC. Наиболее эффективным алгоритмом оказался Gradient Boosting."
   ]
  },
  {
   "cell_type": "markdown",
   "metadata": {},
   "source": [
    "## Тестирование модели"
   ]
  },
  {
   "cell_type": "code",
   "execution_count": 46,
   "metadata": {},
   "outputs": [
    {
     "name": "stdout",
     "output_type": "stream",
     "text": [
      "Значение F1 для модели Gradient Boosting с увеличенной выборкой на валидационных данных: 0.6204620462046204\n",
      "Значение AUC-ROC для модели Gradient Boosting с увеличенной выборкой на валидационных данных: 0.8703211918470222\n",
      "\n",
      "Значение F1 для модели Gradient Boosting с увеличенной выборкой на тестовых данных: 0.6593843098311818\n",
      "Значение AUC-ROC для модели Gradient Boosting с увеличенной выборкой на тестовых данных: 0.8703968990035909\n"
     ]
    }
   ],
   "source": [
    "# Обучение модели на увеличенной выборке\n",
    "f1_gb_valid, auc_roc_gb_valid = train_and_evaluate_model(gb_model, features_oversampled, target_oversampled, \n",
    "                                                         features_valid_preprocessed, target_valid)\n",
    "\n",
    "print(\"Значение F1 для модели Gradient Boosting с увеличенной выборкой на валидационных данных:\", f1_gb_valid)\n",
    "print(\"Значение AUC-ROC для модели Gradient Boosting с увеличенной выборкой на валидационных данных:\", auc_roc_gb_valid)\n",
    "print('')\n",
    "\n",
    "# Предсказание на тестовых данных\n",
    "gb_predicted_test = gb_model.predict(features_test_preprocessed)\n",
    "\n",
    "# Вычисление метрики F1\n",
    "f1_gb_test = f1_score(target_test, gb_predicted_test)\n",
    "\n",
    "# Вычисление метрики AUC-ROC\n",
    "probabilities_test = gb_model.predict_proba(features_test_preprocessed)\n",
    "probabilities_one_test = probabilities_test[:, 1]\n",
    "auc_roc_gb_test = roc_auc_score(target_test, probabilities_one_test)\n",
    "\n",
    "print(\"Значение F1 для модели Gradient Boosting с увеличенной выборкой на тестовых данных:\", f1_gb_test)\n",
    "print(\"Значение AUC-ROC для модели Gradient Boosting с увеличенной выборкой на тестовых данных:\", auc_roc_gb_test)"
   ]
  },
  {
   "cell_type": "markdown",
   "metadata": {},
   "source": [
    "## Итоговый вывод"
   ]
  },
  {
   "cell_type": "markdown",
   "metadata": {},
   "source": [
    "В ходе работы над проектом были выполнены следующие шаги:\n",
    "\n",
    "1. Данные были загружены из CSV-файла и сохранены в переменную `data`. Столбцы были переименованы в строчные символы и \"змеиный_регистр\" для удобства работы.\n",
    "\n",
    "2. Был проведен анализ данных на предмет пропущенных значений и дубликатов. Пропущенные значения в столбце \"сколько лет человек является клиентом банка\" были заменены на 0, обозначив их как новых клиентов. Дубликаты в данных не были обнаружены.\n",
    "\n",
    "3. Было определено соотношение действующих клиентов банка и ушедших, что позволило выявить дисбаланс классов.\n",
    "\n",
    "4. Был создан новый датафрейм `data_ml` для машинного обучения, из которого были удалены столбцы-идентификаторы, не представляющие ценности для алгоритма.\n",
    "\n",
    "5. Данные были разделены на обучающую и тестовую выборки с применением препроцессора для выполнения One-Hot Encoding и масштабирования числовых признаков.\n",
    "\n",
    "6. Были обучены четыре модели машинного обучения: Дерево решений, Логистическая регрессия, Случайный лес и Градиентный бустинг. Сначала модели были обучены без учета дисбаланса классов, а затем были применены различные методы балансировки классов, такие как взвешивание классов и сэмплинг данных.\n",
    "\n",
    "7. Была проведена визуализация результатов F1 Scores и AUC-ROC для различных методов балансировки, что позволило сравнить эффективность этих методов.\n",
    "\n",
    "8. Наилучшая модель была протестирована на тестовой выборке для окончательной оценки ее производительности.\n",
    "\n",
    "Модель Gradient Boosting с увеличенной выборкой показала следующие результаты на валидационных данных:\n",
    "- Значение F1-меры составляет 0.620, что находится выше требуемого значения 0.59.\n",
    "- Значение AUC-ROC составляет 0.870.\n",
    "\n",
    "На тестовых данных модель Gradient Boosting с увеличенной выборкой показала следующие результаты:\n",
    "- Значение F1-меры составляет 0.659, что также превышает требуемое значение 0.59.\n",
    "- Значение AUC-ROC составляет 0.870.\n",
    "\n",
    "В результате было установлено, что модель Градиентного бустинга показала наилучшие результаты по метрикам F1 и AUC-ROC при использовании метода увеличения выборки для балансировки классов. Эта модель может быть использована для предсказания оттока клиентов банка.\n",
    "\n",
    "Рекомендации:\n",
    "- Предоставленная модель может использоваться для прогнозирования ухода клиентов из банка.\n",
    "- Рекомендуется провести дополнительные исследования и тестирования для уточнения качества модели, чтобы быть уверенными в ее результативности на реальных данных.\n"
   ]
  }
 ],
 "metadata": {
  "ExecuteTimeLog": [
   {
    "duration": 817,
    "start_time": "2023-11-05T18:57:30.610Z"
   },
   {
    "duration": 107,
    "start_time": "2023-11-05T18:57:33.812Z"
   },
   {
    "duration": 3,
    "start_time": "2023-11-05T19:02:07.148Z"
   },
   {
    "duration": 140,
    "start_time": "2023-11-05T19:02:11.913Z"
   },
   {
    "duration": 120,
    "start_time": "2023-11-05T19:02:32.493Z"
   },
   {
    "duration": 763,
    "start_time": "2023-11-07T18:15:25.070Z"
   },
   {
    "duration": 131,
    "start_time": "2023-11-07T18:15:35.296Z"
   },
   {
    "duration": 10,
    "start_time": "2023-11-07T18:16:13.059Z"
   },
   {
    "duration": 3,
    "start_time": "2023-11-07T18:20:49.219Z"
   },
   {
    "duration": 7,
    "start_time": "2023-11-07T18:35:40.754Z"
   },
   {
    "duration": 9,
    "start_time": "2023-11-07T18:42:59.771Z"
   },
   {
    "duration": 34,
    "start_time": "2023-11-07T18:52:46.610Z"
   },
   {
    "duration": 95,
    "start_time": "2023-11-07T18:57:29.786Z"
   },
   {
    "duration": 93,
    "start_time": "2023-11-07T19:05:49.016Z"
   },
   {
    "duration": 25,
    "start_time": "2023-11-07T19:06:46.980Z"
   },
   {
    "duration": 2,
    "start_time": "2023-11-07T19:06:58.914Z"
   },
   {
    "duration": 97,
    "start_time": "2023-11-07T19:06:58.920Z"
   },
   {
    "duration": 6,
    "start_time": "2023-11-07T19:06:59.018Z"
   },
   {
    "duration": 32,
    "start_time": "2023-11-07T19:06:59.025Z"
   },
   {
    "duration": 19,
    "start_time": "2023-11-07T19:06:59.059Z"
   },
   {
    "duration": 19,
    "start_time": "2023-11-07T19:07:02.974Z"
   },
   {
    "duration": 27,
    "start_time": "2023-11-07T19:15:33.841Z"
   },
   {
    "duration": 4,
    "start_time": "2023-11-07T19:15:56.035Z"
   },
   {
    "duration": 6,
    "start_time": "2023-11-07T19:16:31.902Z"
   },
   {
    "duration": 21,
    "start_time": "2023-11-07T19:23:13.538Z"
   },
   {
    "duration": 13,
    "start_time": "2023-11-07T19:48:08.553Z"
   },
   {
    "duration": 1629,
    "start_time": "2023-11-08T14:59:51.839Z"
   },
   {
    "duration": 144,
    "start_time": "2023-11-08T14:59:53.470Z"
   },
   {
    "duration": 7,
    "start_time": "2023-11-08T14:59:53.615Z"
   },
   {
    "duration": 242,
    "start_time": "2023-11-08T14:59:53.624Z"
   },
   {
    "duration": 65,
    "start_time": "2023-11-08T14:59:53.868Z"
   },
   {
    "duration": 12,
    "start_time": "2023-11-08T14:59:53.934Z"
   },
   {
    "duration": 48,
    "start_time": "2023-11-08T14:59:53.948Z"
   },
   {
    "duration": 17,
    "start_time": "2023-11-08T14:59:53.997Z"
   },
   {
    "duration": 30,
    "start_time": "2023-11-08T14:59:54.015Z"
   },
   {
    "duration": 7,
    "start_time": "2023-11-08T15:00:20.546Z"
   },
   {
    "duration": 114,
    "start_time": "2023-11-08T15:00:56.095Z"
   },
   {
    "duration": 6,
    "start_time": "2023-11-08T15:01:39.183Z"
   },
   {
    "duration": 14,
    "start_time": "2023-11-08T15:01:57.960Z"
   },
   {
    "duration": 13,
    "start_time": "2023-11-08T15:02:17.492Z"
   },
   {
    "duration": 24,
    "start_time": "2023-11-08T15:02:50.567Z"
   },
   {
    "duration": 2,
    "start_time": "2023-11-08T15:03:11.578Z"
   },
   {
    "duration": 23,
    "start_time": "2023-11-08T15:03:17.476Z"
   },
   {
    "duration": 3,
    "start_time": "2023-11-08T15:33:06.567Z"
   },
   {
    "duration": 30,
    "start_time": "2023-11-08T15:34:27.217Z"
   },
   {
    "duration": 11,
    "start_time": "2023-11-08T15:37:21.780Z"
   },
   {
    "duration": 6,
    "start_time": "2023-11-08T15:40:12.239Z"
   },
   {
    "duration": 343,
    "start_time": "2023-11-08T15:40:17.270Z"
   },
   {
    "duration": 377,
    "start_time": "2023-11-08T15:40:46.143Z"
   },
   {
    "duration": 290,
    "start_time": "2023-11-08T15:40:53.631Z"
   },
   {
    "duration": 265,
    "start_time": "2023-11-08T15:40:59.158Z"
   },
   {
    "duration": 267,
    "start_time": "2023-11-08T15:53:53.552Z"
   },
   {
    "duration": 330,
    "start_time": "2023-11-08T15:54:48.790Z"
   },
   {
    "duration": 235,
    "start_time": "2023-11-08T15:55:28.981Z"
   },
   {
    "duration": 132,
    "start_time": "2023-11-08T16:16:42.116Z"
   },
   {
    "duration": 109,
    "start_time": "2023-11-08T16:18:35.553Z"
   },
   {
    "duration": 122,
    "start_time": "2023-11-08T16:33:52.715Z"
   },
   {
    "duration": 128,
    "start_time": "2023-11-08T16:36:11.532Z"
   },
   {
    "duration": 3,
    "start_time": "2023-11-08T16:49:59.511Z"
   },
   {
    "duration": 425,
    "start_time": "2023-11-08T16:51:30.994Z"
   },
   {
    "duration": 534,
    "start_time": "2023-11-08T16:52:21.989Z"
   },
   {
    "duration": 18,
    "start_time": "2023-11-08T17:08:15.627Z"
   },
   {
    "duration": 4,
    "start_time": "2023-11-08T17:10:04.692Z"
   },
   {
    "duration": 26,
    "start_time": "2023-11-08T17:13:00.792Z"
   },
   {
    "duration": 25,
    "start_time": "2023-11-08T17:17:35.332Z"
   },
   {
    "duration": 991,
    "start_time": "2023-11-08T17:22:46.434Z"
   },
   {
    "duration": 813,
    "start_time": "2023-11-08T17:23:24.009Z"
   },
   {
    "duration": 705,
    "start_time": "2023-11-08T17:24:42.209Z"
   },
   {
    "duration": 2281,
    "start_time": "2023-11-09T02:05:02.100Z"
   },
   {
    "duration": 110,
    "start_time": "2023-11-09T02:06:25.563Z"
   },
   {
    "duration": 10,
    "start_time": "2023-11-09T02:07:10.924Z"
   },
   {
    "duration": 11,
    "start_time": "2023-11-09T02:08:05.862Z"
   },
   {
    "duration": 4,
    "start_time": "2023-11-09T02:08:34.764Z"
   },
   {
    "duration": 158,
    "start_time": "2023-11-09T02:08:34.773Z"
   },
   {
    "duration": 7,
    "start_time": "2023-11-09T02:08:34.933Z"
   },
   {
    "duration": 15,
    "start_time": "2023-11-09T02:08:34.942Z"
   },
   {
    "duration": 25,
    "start_time": "2023-11-09T02:08:34.980Z"
   },
   {
    "duration": 4,
    "start_time": "2023-11-09T02:08:35.006Z"
   },
   {
    "duration": 17,
    "start_time": "2023-11-09T02:08:35.012Z"
   },
   {
    "duration": 14,
    "start_time": "2023-11-09T02:08:35.031Z"
   },
   {
    "duration": 35,
    "start_time": "2023-11-09T02:08:35.047Z"
   },
   {
    "duration": 167,
    "start_time": "2023-11-09T02:08:35.084Z"
   },
   {
    "duration": 13,
    "start_time": "2023-11-09T02:08:35.254Z"
   },
   {
    "duration": 58,
    "start_time": "2023-11-09T02:08:35.269Z"
   },
   {
    "duration": 0,
    "start_time": "2023-11-09T02:08:35.329Z"
   },
   {
    "duration": 0,
    "start_time": "2023-11-09T02:08:35.331Z"
   },
   {
    "duration": 0,
    "start_time": "2023-11-09T02:08:35.332Z"
   },
   {
    "duration": 13,
    "start_time": "2023-11-09T02:10:07.994Z"
   },
   {
    "duration": 13,
    "start_time": "2023-11-09T02:14:56.033Z"
   },
   {
    "duration": 5,
    "start_time": "2023-11-09T02:24:45.932Z"
   },
   {
    "duration": 424,
    "start_time": "2023-11-09T02:24:48.562Z"
   },
   {
    "duration": 46,
    "start_time": "2023-11-09T02:26:04.413Z"
   },
   {
    "duration": 4,
    "start_time": "2023-11-09T02:28:04.635Z"
   },
   {
    "duration": 49,
    "start_time": "2023-11-09T02:28:13.369Z"
   },
   {
    "duration": 3,
    "start_time": "2023-11-09T02:28:58.940Z"
   },
   {
    "duration": 4,
    "start_time": "2023-11-09T02:29:37.892Z"
   },
   {
    "duration": 46,
    "start_time": "2023-11-09T02:29:44.700Z"
   },
   {
    "duration": 310,
    "start_time": "2023-11-09T02:31:05.080Z"
   },
   {
    "duration": 938,
    "start_time": "2023-11-09T02:33:20.075Z"
   },
   {
    "duration": 1035,
    "start_time": "2023-11-09T02:33:50.535Z"
   },
   {
    "duration": 272,
    "start_time": "2023-11-09T02:34:03.516Z"
   },
   {
    "duration": 26,
    "start_time": "2023-11-09T02:35:05.336Z"
   },
   {
    "duration": 26,
    "start_time": "2023-11-09T02:39:06.885Z"
   },
   {
    "duration": 55,
    "start_time": "2023-11-09T02:39:16.794Z"
   },
   {
    "duration": 26,
    "start_time": "2023-11-09T02:42:06.323Z"
   },
   {
    "duration": 46,
    "start_time": "2023-11-09T02:46:22.575Z"
   },
   {
    "duration": 14,
    "start_time": "2023-11-09T02:46:46.844Z"
   },
   {
    "duration": 10,
    "start_time": "2023-11-09T02:46:53.520Z"
   },
   {
    "duration": 4,
    "start_time": "2023-11-09T02:47:12.237Z"
   },
   {
    "duration": 100,
    "start_time": "2023-11-09T02:47:12.244Z"
   },
   {
    "duration": 8,
    "start_time": "2023-11-09T02:47:12.346Z"
   },
   {
    "duration": 31,
    "start_time": "2023-11-09T02:47:12.355Z"
   },
   {
    "duration": 25,
    "start_time": "2023-11-09T02:47:12.388Z"
   },
   {
    "duration": 4,
    "start_time": "2023-11-09T02:47:12.414Z"
   },
   {
    "duration": 8,
    "start_time": "2023-11-09T02:47:12.420Z"
   },
   {
    "duration": 12,
    "start_time": "2023-11-09T02:47:12.429Z"
   },
   {
    "duration": 40,
    "start_time": "2023-11-09T02:47:12.442Z"
   },
   {
    "duration": 135,
    "start_time": "2023-11-09T02:47:12.484Z"
   },
   {
    "duration": 13,
    "start_time": "2023-11-09T02:47:12.623Z"
   },
   {
    "duration": 43,
    "start_time": "2023-11-09T02:47:12.638Z"
   },
   {
    "duration": 43,
    "start_time": "2023-11-09T02:47:12.683Z"
   },
   {
    "duration": 158,
    "start_time": "2023-11-09T02:47:12.728Z"
   },
   {
    "duration": 1043,
    "start_time": "2023-11-09T02:47:12.888Z"
   },
   {
    "duration": 987,
    "start_time": "2023-11-09T02:47:13.933Z"
   },
   {
    "duration": 165,
    "start_time": "2023-11-09T02:47:14.922Z"
   },
   {
    "duration": 315,
    "start_time": "2023-11-09T02:47:15.090Z"
   },
   {
    "duration": 379,
    "start_time": "2023-11-09T02:47:15.407Z"
   },
   {
    "duration": 898,
    "start_time": "2023-11-09T02:47:15.789Z"
   },
   {
    "duration": 45,
    "start_time": "2023-11-09T02:58:33.597Z"
   },
   {
    "duration": 374,
    "start_time": "2023-11-09T02:58:36.509Z"
   },
   {
    "duration": 864,
    "start_time": "2023-11-09T02:58:38.728Z"
   },
   {
    "duration": 961,
    "start_time": "2023-11-09T02:58:42.285Z"
   },
   {
    "duration": 274,
    "start_time": "2023-11-09T03:26:12.211Z"
   },
   {
    "duration": 989,
    "start_time": "2023-11-09T03:33:13.733Z"
   },
   {
    "duration": 1011,
    "start_time": "2023-11-09T03:37:10.188Z"
   },
   {
    "duration": 19,
    "start_time": "2023-11-09T03:45:36.378Z"
   },
   {
    "duration": 154,
    "start_time": "2023-11-09T03:45:57.363Z"
   },
   {
    "duration": 15,
    "start_time": "2023-11-09T03:46:00.747Z"
   },
   {
    "duration": 15,
    "start_time": "2023-11-09T03:46:17.266Z"
   },
   {
    "duration": 4,
    "start_time": "2023-11-09T03:46:30.314Z"
   },
   {
    "duration": 16,
    "start_time": "2023-11-09T03:53:18.440Z"
   },
   {
    "duration": 27,
    "start_time": "2023-11-09T04:09:37.847Z"
   },
   {
    "duration": 14,
    "start_time": "2023-11-09T04:11:56.812Z"
   },
   {
    "duration": 26,
    "start_time": "2023-11-09T04:12:29.375Z"
   },
   {
    "duration": 13,
    "start_time": "2023-11-09T04:15:58.269Z"
   },
   {
    "duration": 14,
    "start_time": "2023-11-09T04:16:16.891Z"
   },
   {
    "duration": 100,
    "start_time": "2023-11-09T04:16:26.149Z"
   },
   {
    "duration": 1676,
    "start_time": "2023-11-09T20:18:15.765Z"
   },
   {
    "duration": 154,
    "start_time": "2023-11-09T20:18:17.443Z"
   },
   {
    "duration": 7,
    "start_time": "2023-11-09T20:18:17.599Z"
   },
   {
    "duration": 22,
    "start_time": "2023-11-09T20:18:17.616Z"
   },
   {
    "duration": 25,
    "start_time": "2023-11-09T20:18:17.640Z"
   },
   {
    "duration": 4,
    "start_time": "2023-11-09T20:18:17.666Z"
   },
   {
    "duration": 10,
    "start_time": "2023-11-09T20:18:17.671Z"
   },
   {
    "duration": 46,
    "start_time": "2023-11-09T20:18:17.684Z"
   },
   {
    "duration": 11,
    "start_time": "2023-11-09T20:18:17.733Z"
   },
   {
    "duration": 179,
    "start_time": "2023-11-09T20:18:17.748Z"
   },
   {
    "duration": 16,
    "start_time": "2023-11-09T20:18:17.931Z"
   },
   {
    "duration": 33,
    "start_time": "2023-11-09T20:18:17.949Z"
   },
   {
    "duration": 79,
    "start_time": "2023-11-09T20:18:17.984Z"
   },
   {
    "duration": 670,
    "start_time": "2023-11-09T20:18:18.065Z"
   },
   {
    "duration": 1152,
    "start_time": "2023-11-09T20:18:18.814Z"
   },
   {
    "duration": 1112,
    "start_time": "2023-11-09T20:18:19.968Z"
   },
   {
    "duration": 1070,
    "start_time": "2023-11-09T20:18:21.082Z"
   },
   {
    "duration": 170,
    "start_time": "2023-11-09T20:18:22.154Z"
   },
   {
    "duration": 590,
    "start_time": "2023-11-09T20:18:22.329Z"
   },
   {
    "duration": 994,
    "start_time": "2023-11-09T20:18:22.921Z"
   },
   {
    "duration": 1503,
    "start_time": "2023-11-09T20:18:23.917Z"
   },
   {
    "duration": 69,
    "start_time": "2023-11-09T20:46:02.832Z"
   },
   {
    "duration": 24,
    "start_time": "2023-11-09T20:59:04.710Z"
   },
   {
    "duration": 14,
    "start_time": "2023-11-09T21:05:58.357Z"
   },
   {
    "duration": 9,
    "start_time": "2023-11-09T21:06:17.758Z"
   },
   {
    "duration": 9,
    "start_time": "2023-11-09T21:06:45.068Z"
   },
   {
    "duration": 8,
    "start_time": "2023-11-09T21:06:52.903Z"
   },
   {
    "duration": 9,
    "start_time": "2023-11-09T21:09:58.376Z"
   },
   {
    "duration": 11,
    "start_time": "2023-11-09T21:10:07.658Z"
   },
   {
    "duration": 8,
    "start_time": "2023-11-09T21:10:11.103Z"
   },
   {
    "duration": 9,
    "start_time": "2023-11-09T21:11:03.784Z"
   },
   {
    "duration": 19,
    "start_time": "2023-11-09T21:12:56.547Z"
   },
   {
    "duration": 308,
    "start_time": "2023-11-09T21:23:09.451Z"
   },
   {
    "duration": 632,
    "start_time": "2023-11-09T21:24:21.823Z"
   },
   {
    "duration": 59,
    "start_time": "2023-11-09T21:26:42.733Z"
   },
   {
    "duration": 666,
    "start_time": "2023-11-09T21:27:16.862Z"
   },
   {
    "duration": 69,
    "start_time": "2023-11-09T21:27:22.780Z"
   },
   {
    "duration": 1072,
    "start_time": "2023-11-09T21:40:58.295Z"
   },
   {
    "duration": 136,
    "start_time": "2023-11-09T21:57:07.167Z"
   },
   {
    "duration": 11,
    "start_time": "2023-11-09T21:57:59.101Z"
   },
   {
    "duration": 15,
    "start_time": "2023-11-09T21:58:24.583Z"
   },
   {
    "duration": 4,
    "start_time": "2023-11-09T21:58:46.274Z"
   },
   {
    "duration": 151,
    "start_time": "2023-11-09T21:58:46.280Z"
   },
   {
    "duration": 14,
    "start_time": "2023-11-09T21:58:46.433Z"
   },
   {
    "duration": 12,
    "start_time": "2023-11-09T21:58:46.449Z"
   },
   {
    "duration": 63,
    "start_time": "2023-11-09T21:58:46.463Z"
   },
   {
    "duration": 5,
    "start_time": "2023-11-09T21:58:46.541Z"
   },
   {
    "duration": 12,
    "start_time": "2023-11-09T21:58:46.548Z"
   },
   {
    "duration": 13,
    "start_time": "2023-11-09T21:58:46.562Z"
   },
   {
    "duration": 12,
    "start_time": "2023-11-09T21:58:46.576Z"
   },
   {
    "duration": 174,
    "start_time": "2023-11-09T21:58:46.589Z"
   },
   {
    "duration": 15,
    "start_time": "2023-11-09T21:58:46.765Z"
   },
   {
    "duration": 59,
    "start_time": "2023-11-09T21:58:46.781Z"
   },
   {
    "duration": 54,
    "start_time": "2023-11-09T21:58:46.844Z"
   },
   {
    "duration": 1263,
    "start_time": "2023-11-09T21:58:46.899Z"
   },
   {
    "duration": 1118,
    "start_time": "2023-11-09T21:58:48.167Z"
   },
   {
    "duration": 1158,
    "start_time": "2023-11-09T21:58:49.288Z"
   },
   {
    "duration": 11,
    "start_time": "2023-11-09T21:58:50.448Z"
   },
   {
    "duration": 1130,
    "start_time": "2023-11-09T21:58:50.460Z"
   },
   {
    "duration": 163,
    "start_time": "2023-11-09T21:58:51.592Z"
   },
   {
    "duration": 60,
    "start_time": "2023-11-09T21:58:51.757Z"
   },
   {
    "duration": 497,
    "start_time": "2023-11-09T21:58:51.819Z"
   },
   {
    "duration": 1154,
    "start_time": "2023-11-09T21:58:52.319Z"
   },
   {
    "duration": 14,
    "start_time": "2023-11-09T21:58:53.475Z"
   },
   {
    "duration": 0,
    "start_time": "2023-11-09T21:58:53.491Z"
   },
   {
    "duration": 0,
    "start_time": "2023-11-09T21:58:53.493Z"
   },
   {
    "duration": 0,
    "start_time": "2023-11-09T21:58:53.494Z"
   },
   {
    "duration": 5,
    "start_time": "2023-11-09T22:07:01.696Z"
   },
   {
    "duration": 6,
    "start_time": "2023-11-09T22:07:13.547Z"
   },
   {
    "duration": 1219,
    "start_time": "2023-11-09T22:08:11.778Z"
   },
   {
    "duration": 1195,
    "start_time": "2023-11-09T22:09:02.977Z"
   },
   {
    "duration": 1190,
    "start_time": "2023-11-09T22:09:09.344Z"
   },
   {
    "duration": 29,
    "start_time": "2023-11-09T22:25:14.318Z"
   },
   {
    "duration": 354,
    "start_time": "2023-11-09T22:43:13.469Z"
   },
   {
    "duration": 1025,
    "start_time": "2023-11-09T22:43:21.118Z"
   },
   {
    "duration": 1141,
    "start_time": "2023-11-09T22:43:32.310Z"
   },
   {
    "duration": 1243,
    "start_time": "2023-11-09T22:58:14.003Z"
   },
   {
    "duration": 4,
    "start_time": "2023-11-09T22:58:32.965Z"
   },
   {
    "duration": 1234,
    "start_time": "2023-11-09T22:58:49.107Z"
   },
   {
    "duration": 14,
    "start_time": "2023-11-09T23:02:10.367Z"
   },
   {
    "duration": 39,
    "start_time": "2023-11-09T23:15:37.513Z"
   },
   {
    "duration": 22,
    "start_time": "2023-11-09T23:19:04.710Z"
   },
   {
    "duration": 32,
    "start_time": "2023-11-09T23:20:59.624Z"
   },
   {
    "duration": 19,
    "start_time": "2023-11-09T23:21:34.988Z"
   },
   {
    "duration": 57,
    "start_time": "2023-11-09T23:23:21.828Z"
   },
   {
    "duration": 51,
    "start_time": "2023-11-09T23:23:57.903Z"
   },
   {
    "duration": 59,
    "start_time": "2023-11-09T23:25:52.645Z"
   },
   {
    "duration": 82,
    "start_time": "2023-11-09T23:25:57.761Z"
   },
   {
    "duration": 56,
    "start_time": "2023-11-09T23:26:05.392Z"
   },
   {
    "duration": 24,
    "start_time": "2023-11-09T23:39:15.269Z"
   },
   {
    "duration": 1008,
    "start_time": "2023-11-09T23:46:45.215Z"
   },
   {
    "duration": 784,
    "start_time": "2023-11-10T00:17:22.947Z"
   },
   {
    "duration": 1155,
    "start_time": "2023-11-10T00:20:09.847Z"
   },
   {
    "duration": 23,
    "start_time": "2023-11-10T00:28:40.665Z"
   },
   {
    "duration": 15,
    "start_time": "2023-11-10T00:31:38.749Z"
   },
   {
    "duration": 1353,
    "start_time": "2023-11-10T00:34:40.297Z"
   },
   {
    "duration": 86,
    "start_time": "2023-11-10T00:44:52.878Z"
   },
   {
    "duration": 18,
    "start_time": "2023-11-10T00:50:59.652Z"
   },
   {
    "duration": 1747,
    "start_time": "2023-11-10T18:44:13.206Z"
   },
   {
    "duration": 3,
    "start_time": "2023-11-10T18:44:22.940Z"
   },
   {
    "duration": 166,
    "start_time": "2023-11-10T18:44:22.945Z"
   },
   {
    "duration": 10,
    "start_time": "2023-11-10T18:44:23.113Z"
   },
   {
    "duration": 18,
    "start_time": "2023-11-10T18:44:23.125Z"
   },
   {
    "duration": 24,
    "start_time": "2023-11-10T18:44:23.144Z"
   },
   {
    "duration": 31,
    "start_time": "2023-11-10T18:44:23.170Z"
   },
   {
    "duration": 8,
    "start_time": "2023-11-10T18:44:23.204Z"
   },
   {
    "duration": 15,
    "start_time": "2023-11-10T18:44:23.214Z"
   },
   {
    "duration": 11,
    "start_time": "2023-11-10T18:44:23.230Z"
   },
   {
    "duration": 186,
    "start_time": "2023-11-10T18:44:23.242Z"
   },
   {
    "duration": 17,
    "start_time": "2023-11-10T18:44:23.432Z"
   },
   {
    "duration": 36,
    "start_time": "2023-11-10T18:44:23.450Z"
   },
   {
    "duration": 63,
    "start_time": "2023-11-10T18:44:23.487Z"
   },
   {
    "duration": 663,
    "start_time": "2023-11-10T18:44:23.552Z"
   },
   {
    "duration": 1182,
    "start_time": "2023-11-10T18:44:24.217Z"
   },
   {
    "duration": 1062,
    "start_time": "2023-11-10T18:44:25.400Z"
   },
   {
    "duration": 13,
    "start_time": "2023-11-10T18:44:26.464Z"
   },
   {
    "duration": 1019,
    "start_time": "2023-11-10T18:44:26.478Z"
   },
   {
    "duration": 173,
    "start_time": "2023-11-10T18:44:27.502Z"
   },
   {
    "duration": 59,
    "start_time": "2023-11-10T18:44:27.678Z"
   },
   {
    "duration": 462,
    "start_time": "2023-11-10T18:44:27.740Z"
   },
   {
    "duration": 1024,
    "start_time": "2023-11-10T18:44:28.204Z"
   },
   {
    "duration": 1067,
    "start_time": "2023-11-10T18:44:29.230Z"
   },
   {
    "duration": 15,
    "start_time": "2023-11-10T18:44:30.305Z"
   },
   {
    "duration": 75,
    "start_time": "2023-11-10T18:44:30.323Z"
   },
   {
    "duration": 716,
    "start_time": "2023-11-10T18:44:30.401Z"
   },
   {
    "duration": 1194,
    "start_time": "2023-11-10T18:44:31.122Z"
   },
   {
    "duration": 1196,
    "start_time": "2023-11-10T18:44:32.318Z"
   },
   {
    "duration": 15,
    "start_time": "2023-11-10T18:44:33.518Z"
   },
   {
    "duration": 671,
    "start_time": "2023-11-10T18:44:33.534Z"
   },
   {
    "duration": 1303,
    "start_time": "2023-11-10T18:44:34.207Z"
   },
   {
    "duration": 49,
    "start_time": "2023-11-10T19:50:52.239Z"
   },
   {
    "duration": 1509,
    "start_time": "2023-11-10T19:51:04.346Z"
   },
   {
    "duration": 5,
    "start_time": "2023-11-10T19:51:09.721Z"
   },
   {
    "duration": 156,
    "start_time": "2023-11-10T19:51:09.727Z"
   },
   {
    "duration": 7,
    "start_time": "2023-11-10T19:51:09.885Z"
   },
   {
    "duration": 31,
    "start_time": "2023-11-10T19:51:09.893Z"
   },
   {
    "duration": 22,
    "start_time": "2023-11-10T19:51:09.926Z"
   },
   {
    "duration": 3,
    "start_time": "2023-11-10T19:51:09.949Z"
   },
   {
    "duration": 37,
    "start_time": "2023-11-10T19:51:09.953Z"
   },
   {
    "duration": 43,
    "start_time": "2023-11-10T19:51:09.992Z"
   },
   {
    "duration": 34,
    "start_time": "2023-11-10T19:51:10.036Z"
   },
   {
    "duration": 159,
    "start_time": "2023-11-10T19:51:10.072Z"
   },
   {
    "duration": 13,
    "start_time": "2023-11-10T19:51:10.233Z"
   },
   {
    "duration": 54,
    "start_time": "2023-11-10T19:51:10.247Z"
   },
   {
    "duration": 59,
    "start_time": "2023-11-10T19:51:10.303Z"
   },
   {
    "duration": 364,
    "start_time": "2023-11-10T19:51:10.364Z"
   },
   {
    "duration": 1068,
    "start_time": "2023-11-10T19:51:10.730Z"
   },
   {
    "duration": 986,
    "start_time": "2023-11-10T19:51:11.800Z"
   },
   {
    "duration": 12,
    "start_time": "2023-11-10T19:51:12.788Z"
   },
   {
    "duration": 986,
    "start_time": "2023-11-10T19:51:12.802Z"
   },
   {
    "duration": 139,
    "start_time": "2023-11-10T19:51:13.789Z"
   },
   {
    "duration": 46,
    "start_time": "2023-11-10T19:51:13.930Z"
   },
   {
    "duration": 154,
    "start_time": "2023-11-10T19:51:13.978Z"
   },
   {
    "duration": 951,
    "start_time": "2023-11-10T19:51:14.223Z"
   },
   {
    "duration": 1000,
    "start_time": "2023-11-10T19:51:15.176Z"
   },
   {
    "duration": 10,
    "start_time": "2023-11-10T19:51:16.178Z"
   },
   {
    "duration": 60,
    "start_time": "2023-11-10T19:51:16.190Z"
   },
   {
    "duration": 276,
    "start_time": "2023-11-10T19:51:16.252Z"
   },
   {
    "duration": 1197,
    "start_time": "2023-11-10T19:51:16.530Z"
   },
   {
    "duration": 1147,
    "start_time": "2023-11-10T19:51:17.728Z"
   },
   {
    "duration": 10,
    "start_time": "2023-11-10T19:51:18.878Z"
   },
   {
    "duration": 40,
    "start_time": "2023-11-10T19:51:18.890Z"
   },
   {
    "duration": 293,
    "start_time": "2023-11-10T19:51:18.932Z"
   },
   {
    "duration": 804,
    "start_time": "2023-11-10T19:51:19.227Z"
   },
   {
    "duration": 163,
    "start_time": "2023-11-10T19:59:17.368Z"
   },
   {
    "duration": 491,
    "start_time": "2023-11-10T20:11:28.481Z"
   },
   {
    "duration": 473,
    "start_time": "2023-11-10T20:16:39.625Z"
   },
   {
    "duration": 15,
    "start_time": "2023-11-10T20:38:12.506Z"
   },
   {
    "duration": 48,
    "start_time": "2023-11-10T21:22:06.669Z"
   },
   {
    "duration": 1585,
    "start_time": "2023-11-10T21:22:17.913Z"
   },
   {
    "duration": 393,
    "start_time": "2023-11-10T21:22:27.102Z"
   },
   {
    "duration": 266,
    "start_time": "2023-11-10T21:27:06.483Z"
   },
   {
    "duration": 322,
    "start_time": "2023-11-10T21:31:22.220Z"
   },
   {
    "duration": 296,
    "start_time": "2023-11-10T21:38:19.754Z"
   },
   {
    "duration": 299,
    "start_time": "2023-11-10T21:41:15.877Z"
   },
   {
    "duration": 402,
    "start_time": "2023-11-10T21:41:39.934Z"
   },
   {
    "duration": 321,
    "start_time": "2023-11-10T21:41:50.527Z"
   },
   {
    "duration": 277,
    "start_time": "2023-11-10T21:41:56.179Z"
   },
   {
    "duration": 296,
    "start_time": "2023-11-10T21:42:00.749Z"
   },
   {
    "duration": 323,
    "start_time": "2023-11-10T21:42:08.150Z"
   },
   {
    "duration": 335,
    "start_time": "2023-11-10T21:42:12.558Z"
   },
   {
    "duration": 290,
    "start_time": "2023-11-10T21:42:18.361Z"
   },
   {
    "duration": 318,
    "start_time": "2023-11-10T21:42:22.270Z"
   },
   {
    "duration": 306,
    "start_time": "2023-11-10T21:42:27.965Z"
   },
   {
    "duration": 327,
    "start_time": "2023-11-10T21:42:45.791Z"
   },
   {
    "duration": 4,
    "start_time": "2023-11-10T21:45:27.797Z"
   },
   {
    "duration": 162,
    "start_time": "2023-11-10T21:45:27.803Z"
   },
   {
    "duration": 7,
    "start_time": "2023-11-10T21:45:27.967Z"
   },
   {
    "duration": 15,
    "start_time": "2023-11-10T21:45:27.976Z"
   },
   {
    "duration": 53,
    "start_time": "2023-11-10T21:45:27.993Z"
   },
   {
    "duration": 5,
    "start_time": "2023-11-10T21:45:28.048Z"
   },
   {
    "duration": 14,
    "start_time": "2023-11-10T21:45:28.055Z"
   },
   {
    "duration": 17,
    "start_time": "2023-11-10T21:45:28.070Z"
   },
   {
    "duration": 12,
    "start_time": "2023-11-10T21:45:28.089Z"
   },
   {
    "duration": 170,
    "start_time": "2023-11-10T21:45:28.103Z"
   },
   {
    "duration": 13,
    "start_time": "2023-11-10T21:45:28.277Z"
   },
   {
    "duration": 127,
    "start_time": "2023-11-10T21:45:28.292Z"
   },
   {
    "duration": 61,
    "start_time": "2023-11-10T21:45:28.420Z"
   },
   {
    "duration": 162,
    "start_time": "2023-11-10T21:45:28.482Z"
   },
   {
    "duration": 978,
    "start_time": "2023-11-10T21:45:28.646Z"
   },
   {
    "duration": 1028,
    "start_time": "2023-11-10T21:45:29.625Z"
   },
   {
    "duration": 11,
    "start_time": "2023-11-10T21:45:30.660Z"
   },
   {
    "duration": 1003,
    "start_time": "2023-11-10T21:45:30.673Z"
   },
   {
    "duration": 133,
    "start_time": "2023-11-10T21:45:31.677Z"
   },
   {
    "duration": 55,
    "start_time": "2023-11-10T21:45:31.812Z"
   },
   {
    "duration": 473,
    "start_time": "2023-11-10T21:45:31.869Z"
   },
   {
    "duration": 1039,
    "start_time": "2023-11-10T21:45:32.346Z"
   },
   {
    "duration": 1071,
    "start_time": "2023-11-10T21:45:33.387Z"
   },
   {
    "duration": 10,
    "start_time": "2023-11-10T21:45:34.460Z"
   },
   {
    "duration": 54,
    "start_time": "2023-11-10T21:45:34.472Z"
   },
   {
    "duration": 715,
    "start_time": "2023-11-10T21:45:34.528Z"
   },
   {
    "duration": 1140,
    "start_time": "2023-11-10T21:45:35.246Z"
   },
   {
    "duration": 1180,
    "start_time": "2023-11-10T21:45:36.387Z"
   },
   {
    "duration": 17,
    "start_time": "2023-11-10T21:45:37.571Z"
   },
   {
    "duration": 71,
    "start_time": "2023-11-10T21:45:37.590Z"
   },
   {
    "duration": 380,
    "start_time": "2023-11-10T21:45:37.663Z"
   },
   {
    "duration": 602,
    "start_time": "2023-11-10T21:45:38.050Z"
   },
   {
    "duration": 492,
    "start_time": "2023-11-10T21:45:38.654Z"
   },
   {
    "duration": 16,
    "start_time": "2023-11-10T21:45:39.148Z"
   },
   {
    "duration": 325,
    "start_time": "2023-11-10T21:45:39.166Z"
   },
   {
    "duration": 253,
    "start_time": "2023-11-10T21:45:39.494Z"
   },
   {
    "duration": 416,
    "start_time": "2023-11-10T21:45:39.749Z"
   },
   {
    "duration": 335,
    "start_time": "2023-11-10T21:48:13.021Z"
   },
   {
    "duration": 1396,
    "start_time": "2023-11-10T21:52:02.477Z"
   },
   {
    "duration": 99,
    "start_time": "2023-11-10T21:52:03.875Z"
   },
   {
    "duration": 9,
    "start_time": "2023-11-10T21:52:03.976Z"
   },
   {
    "duration": 11,
    "start_time": "2023-11-10T21:52:03.987Z"
   },
   {
    "duration": 44,
    "start_time": "2023-11-10T21:52:03.999Z"
   },
   {
    "duration": 3,
    "start_time": "2023-11-10T21:52:04.045Z"
   },
   {
    "duration": 12,
    "start_time": "2023-11-10T21:52:04.050Z"
   },
   {
    "duration": 17,
    "start_time": "2023-11-10T21:52:04.063Z"
   },
   {
    "duration": 10,
    "start_time": "2023-11-10T21:52:04.081Z"
   },
   {
    "duration": 164,
    "start_time": "2023-11-10T21:52:04.094Z"
   },
   {
    "duration": 13,
    "start_time": "2023-11-10T21:52:04.260Z"
   },
   {
    "duration": 26,
    "start_time": "2023-11-10T21:52:04.275Z"
   },
   {
    "duration": 65,
    "start_time": "2023-11-10T21:52:04.303Z"
   },
   {
    "duration": 283,
    "start_time": "2023-11-10T21:52:04.370Z"
   },
   {
    "duration": 976,
    "start_time": "2023-11-10T21:52:04.743Z"
   },
   {
    "duration": 981,
    "start_time": "2023-11-10T21:52:05.721Z"
   },
   {
    "duration": 10,
    "start_time": "2023-11-10T21:52:06.704Z"
   },
   {
    "duration": 990,
    "start_time": "2023-11-10T21:52:06.716Z"
   },
   {
    "duration": 142,
    "start_time": "2023-11-10T21:52:07.707Z"
   },
   {
    "duration": 44,
    "start_time": "2023-11-10T21:52:07.851Z"
   },
   {
    "duration": 156,
    "start_time": "2023-11-10T21:52:07.897Z"
   },
   {
    "duration": 956,
    "start_time": "2023-11-10T21:52:08.143Z"
   },
   {
    "duration": 970,
    "start_time": "2023-11-10T21:52:09.100Z"
   },
   {
    "duration": 10,
    "start_time": "2023-11-10T21:52:10.071Z"
   },
   {
    "duration": 73,
    "start_time": "2023-11-10T21:52:10.082Z"
   },
   {
    "duration": 587,
    "start_time": "2023-11-10T21:52:10.157Z"
   },
   {
    "duration": 1075,
    "start_time": "2023-11-10T21:52:10.746Z"
   },
   {
    "duration": 1146,
    "start_time": "2023-11-10T21:52:11.824Z"
   },
   {
    "duration": 11,
    "start_time": "2023-11-10T21:52:12.971Z"
   },
   {
    "duration": 29,
    "start_time": "2023-11-10T21:52:12.983Z"
   },
   {
    "duration": 536,
    "start_time": "2023-11-10T21:52:13.014Z"
   },
   {
    "duration": 568,
    "start_time": "2023-11-10T21:52:13.552Z"
   },
   {
    "duration": 455,
    "start_time": "2023-11-10T21:52:14.122Z"
   },
   {
    "duration": 10,
    "start_time": "2023-11-10T21:52:14.579Z"
   },
   {
    "duration": 118,
    "start_time": "2023-11-10T21:52:14.591Z"
   },
   {
    "duration": 0,
    "start_time": "2023-11-10T21:52:14.710Z"
   },
   {
    "duration": 0,
    "start_time": "2023-11-10T21:52:14.711Z"
   },
   {
    "duration": 15,
    "start_time": "2023-11-10T21:52:44.687Z"
   },
   {
    "duration": 355,
    "start_time": "2023-11-10T21:53:00.714Z"
   },
   {
    "duration": 395,
    "start_time": "2023-11-10T21:53:20.208Z"
   },
   {
    "duration": 127,
    "start_time": "2023-11-10T22:18:53.289Z"
   },
   {
    "duration": 116,
    "start_time": "2023-11-10T22:24:50.511Z"
   },
   {
    "duration": 113,
    "start_time": "2023-11-10T22:24:56.884Z"
   },
   {
    "duration": 309,
    "start_time": "2023-11-10T22:30:18.339Z"
   },
   {
    "duration": 324,
    "start_time": "2023-11-10T22:31:55.488Z"
   },
   {
    "duration": 326,
    "start_time": "2023-11-10T22:32:39.224Z"
   },
   {
    "duration": 16,
    "start_time": "2023-11-10T22:33:21.733Z"
   },
   {
    "duration": 300,
    "start_time": "2023-11-10T22:33:30.245Z"
   },
   {
    "duration": 313,
    "start_time": "2023-11-10T22:45:44.542Z"
   },
   {
    "duration": 9,
    "start_time": "2023-11-10T23:36:19.948Z"
   },
   {
    "duration": 5,
    "start_time": "2023-11-11T00:19:22.101Z"
   },
   {
    "duration": 13,
    "start_time": "2023-11-11T00:30:47.501Z"
   },
   {
    "duration": 11,
    "start_time": "2023-11-11T00:31:16.829Z"
   },
   {
    "duration": 10,
    "start_time": "2023-11-11T00:31:50.910Z"
   },
   {
    "duration": 1348,
    "start_time": "2023-11-11T00:34:34.922Z"
   },
   {
    "duration": 100,
    "start_time": "2023-11-11T00:34:36.272Z"
   },
   {
    "duration": 8,
    "start_time": "2023-11-11T00:34:36.373Z"
   },
   {
    "duration": 18,
    "start_time": "2023-11-11T00:34:36.383Z"
   },
   {
    "duration": 23,
    "start_time": "2023-11-11T00:34:36.402Z"
   },
   {
    "duration": 17,
    "start_time": "2023-11-11T00:34:36.427Z"
   },
   {
    "duration": 9,
    "start_time": "2023-11-11T00:34:36.445Z"
   },
   {
    "duration": 12,
    "start_time": "2023-11-11T00:34:36.456Z"
   },
   {
    "duration": 9,
    "start_time": "2023-11-11T00:34:36.470Z"
   },
   {
    "duration": 156,
    "start_time": "2023-11-11T00:34:36.482Z"
   },
   {
    "duration": 12,
    "start_time": "2023-11-11T00:34:36.641Z"
   },
   {
    "duration": 28,
    "start_time": "2023-11-11T00:34:36.654Z"
   },
   {
    "duration": 41,
    "start_time": "2023-11-11T00:34:36.684Z"
   },
   {
    "duration": 317,
    "start_time": "2023-11-11T00:34:36.726Z"
   },
   {
    "duration": 936,
    "start_time": "2023-11-11T00:34:37.046Z"
   },
   {
    "duration": 941,
    "start_time": "2023-11-11T00:34:37.984Z"
   },
   {
    "duration": 10,
    "start_time": "2023-11-11T00:34:38.927Z"
   },
   {
    "duration": 946,
    "start_time": "2023-11-11T00:34:38.942Z"
   },
   {
    "duration": 125,
    "start_time": "2023-11-11T00:34:39.889Z"
   },
   {
    "duration": 53,
    "start_time": "2023-11-11T00:34:40.015Z"
   },
   {
    "duration": 181,
    "start_time": "2023-11-11T00:34:40.070Z"
   },
   {
    "duration": 937,
    "start_time": "2023-11-11T00:34:40.344Z"
   },
   {
    "duration": 936,
    "start_time": "2023-11-11T00:34:41.283Z"
   },
   {
    "duration": 10,
    "start_time": "2023-11-11T00:34:42.220Z"
   },
   {
    "duration": 58,
    "start_time": "2023-11-11T00:34:42.231Z"
   },
   {
    "duration": 356,
    "start_time": "2023-11-11T00:34:42.290Z"
   },
   {
    "duration": 976,
    "start_time": "2023-11-11T00:34:42.741Z"
   },
   {
    "duration": 1121,
    "start_time": "2023-11-11T00:34:43.720Z"
   },
   {
    "duration": 11,
    "start_time": "2023-11-11T00:34:44.842Z"
   },
   {
    "duration": 30,
    "start_time": "2023-11-11T00:34:44.855Z"
   },
   {
    "duration": 256,
    "start_time": "2023-11-11T00:34:44.887Z"
   },
   {
    "duration": 541,
    "start_time": "2023-11-11T00:34:45.145Z"
   },
   {
    "duration": 429,
    "start_time": "2023-11-11T00:34:45.688Z"
   },
   {
    "duration": 10,
    "start_time": "2023-11-11T00:34:46.118Z"
   },
   {
    "duration": 307,
    "start_time": "2023-11-11T00:34:46.130Z"
   },
   {
    "duration": 389,
    "start_time": "2023-11-11T00:34:46.443Z"
   },
   {
    "duration": 91,
    "start_time": "2023-11-11T00:34:46.834Z"
   },
   {
    "duration": 0,
    "start_time": "2023-11-11T00:34:46.927Z"
   },
   {
    "duration": 25,
    "start_time": "2023-11-11T00:37:49.282Z"
   },
   {
    "duration": 21,
    "start_time": "2023-11-11T00:44:45.954Z"
   },
   {
    "duration": 20,
    "start_time": "2023-11-11T00:44:59.629Z"
   },
   {
    "duration": 21,
    "start_time": "2023-11-11T00:45:06.698Z"
   },
   {
    "duration": 1315,
    "start_time": "2023-11-11T00:48:12.937Z"
   },
   {
    "duration": 99,
    "start_time": "2023-11-11T00:48:14.254Z"
   },
   {
    "duration": 6,
    "start_time": "2023-11-11T00:48:14.355Z"
   },
   {
    "duration": 18,
    "start_time": "2023-11-11T00:48:14.363Z"
   },
   {
    "duration": 23,
    "start_time": "2023-11-11T00:48:14.382Z"
   },
   {
    "duration": 3,
    "start_time": "2023-11-11T00:48:14.407Z"
   },
   {
    "duration": 8,
    "start_time": "2023-11-11T00:48:14.412Z"
   },
   {
    "duration": 13,
    "start_time": "2023-11-11T00:48:14.442Z"
   },
   {
    "duration": 10,
    "start_time": "2023-11-11T00:48:14.457Z"
   },
   {
    "duration": 149,
    "start_time": "2023-11-11T00:48:14.470Z"
   },
   {
    "duration": 13,
    "start_time": "2023-11-11T00:48:14.621Z"
   },
   {
    "duration": 45,
    "start_time": "2023-11-11T00:48:14.643Z"
   },
   {
    "duration": 44,
    "start_time": "2023-11-11T00:48:14.690Z"
   },
   {
    "duration": 308,
    "start_time": "2023-11-11T00:48:14.736Z"
   },
   {
    "duration": 944,
    "start_time": "2023-11-11T00:48:15.047Z"
   },
   {
    "duration": 912,
    "start_time": "2023-11-11T00:48:15.993Z"
   },
   {
    "duration": 10,
    "start_time": "2023-11-11T00:48:16.906Z"
   },
   {
    "duration": 934,
    "start_time": "2023-11-11T00:48:16.918Z"
   },
   {
    "duration": 130,
    "start_time": "2023-11-11T00:48:17.854Z"
   },
   {
    "duration": 46,
    "start_time": "2023-11-11T00:48:17.985Z"
   },
   {
    "duration": 202,
    "start_time": "2023-11-11T00:48:18.043Z"
   },
   {
    "duration": 933,
    "start_time": "2023-11-11T00:48:18.247Z"
   },
   {
    "duration": 952,
    "start_time": "2023-11-11T00:48:19.181Z"
   },
   {
    "duration": 13,
    "start_time": "2023-11-11T00:48:20.135Z"
   },
   {
    "duration": 79,
    "start_time": "2023-11-11T00:48:20.150Z"
   },
   {
    "duration": 221,
    "start_time": "2023-11-11T00:48:20.231Z"
   },
   {
    "duration": 1068,
    "start_time": "2023-11-11T00:48:20.544Z"
   },
   {
    "duration": 1132,
    "start_time": "2023-11-11T00:48:21.616Z"
   },
   {
    "duration": 10,
    "start_time": "2023-11-11T00:48:22.750Z"
   },
   {
    "duration": 27,
    "start_time": "2023-11-11T00:48:22.762Z"
   },
   {
    "duration": 259,
    "start_time": "2023-11-11T00:48:22.791Z"
   },
   {
    "duration": 638,
    "start_time": "2023-11-11T00:48:23.052Z"
   },
   {
    "duration": 439,
    "start_time": "2023-11-11T00:48:23.692Z"
   },
   {
    "duration": 16,
    "start_time": "2023-11-11T00:48:24.133Z"
   },
   {
    "duration": 294,
    "start_time": "2023-11-11T00:48:24.151Z"
   },
   {
    "duration": 407,
    "start_time": "2023-11-11T00:48:24.446Z"
   },
   {
    "duration": 22,
    "start_time": "2023-11-11T00:48:24.855Z"
   },
   {
    "duration": 122,
    "start_time": "2023-11-11T00:48:24.879Z"
   },
   {
    "duration": 939,
    "start_time": "2023-11-11T01:08:58.439Z"
   },
   {
    "duration": 953,
    "start_time": "2023-11-11T01:09:26.041Z"
   },
   {
    "duration": 1493,
    "start_time": "2023-11-11T18:40:54.689Z"
   },
   {
    "duration": 4,
    "start_time": "2023-11-11T18:43:03.199Z"
   },
   {
    "duration": 136,
    "start_time": "2023-11-11T18:43:10.494Z"
   },
   {
    "duration": 3,
    "start_time": "2023-11-11T18:43:31.874Z"
   },
   {
    "duration": 6,
    "start_time": "2023-11-11T18:44:25.285Z"
   },
   {
    "duration": 10,
    "start_time": "2023-11-11T18:50:05.703Z"
   },
   {
    "duration": 18,
    "start_time": "2023-11-11T19:01:30.931Z"
   },
   {
    "duration": 7,
    "start_time": "2023-11-11T19:08:15.971Z"
   },
   {
    "duration": 23,
    "start_time": "2023-11-11T19:28:11.110Z"
   },
   {
    "duration": 21,
    "start_time": "2023-11-11T19:31:43.057Z"
   },
   {
    "duration": 17,
    "start_time": "2023-11-11T19:34:30.572Z"
   },
   {
    "duration": 12,
    "start_time": "2023-11-11T19:37:43.560Z"
   },
   {
    "duration": 18,
    "start_time": "2023-11-11T19:42:10.606Z"
   },
   {
    "duration": 20,
    "start_time": "2023-11-11T19:52:31.610Z"
   },
   {
    "duration": 22,
    "start_time": "2023-11-11T19:52:48.498Z"
   },
   {
    "duration": 23,
    "start_time": "2023-11-11T19:53:14.133Z"
   },
   {
    "duration": 22,
    "start_time": "2023-11-11T19:53:32.162Z"
   },
   {
    "duration": 19,
    "start_time": "2023-11-11T19:53:43.683Z"
   },
   {
    "duration": 22,
    "start_time": "2023-11-11T19:53:51.541Z"
   },
   {
    "duration": 3,
    "start_time": "2023-11-11T20:15:47.349Z"
   },
   {
    "duration": 5,
    "start_time": "2023-11-11T20:21:07.659Z"
   },
   {
    "duration": 9,
    "start_time": "2023-11-11T20:21:13.684Z"
   },
   {
    "duration": 8,
    "start_time": "2023-11-11T20:27:44.042Z"
   },
   {
    "duration": 13,
    "start_time": "2023-11-11T20:31:24.369Z"
   },
   {
    "duration": 160,
    "start_time": "2023-11-11T20:48:44.743Z"
   },
   {
    "duration": 4,
    "start_time": "2023-11-11T20:48:57.038Z"
   },
   {
    "duration": 13,
    "start_time": "2023-11-11T21:09:33.698Z"
   },
   {
    "duration": 18,
    "start_time": "2023-11-11T21:09:40.510Z"
   },
   {
    "duration": 33,
    "start_time": "2023-11-11T21:09:46.152Z"
   },
   {
    "duration": 31,
    "start_time": "2023-11-11T21:10:00.153Z"
   },
   {
    "duration": 30,
    "start_time": "2023-11-11T21:10:41.503Z"
   },
   {
    "duration": 35,
    "start_time": "2023-11-11T21:18:13.648Z"
   },
   {
    "duration": 29,
    "start_time": "2023-11-11T21:24:14.089Z"
   },
   {
    "duration": 35,
    "start_time": "2023-11-11T21:29:58.286Z"
   },
   {
    "duration": 46,
    "start_time": "2023-11-11T21:30:12.558Z"
   },
   {
    "duration": 115,
    "start_time": "2023-11-11T21:45:32.332Z"
   },
   {
    "duration": 81,
    "start_time": "2023-11-11T21:53:37.066Z"
   },
   {
    "duration": 4,
    "start_time": "2023-11-11T22:19:19.043Z"
   },
   {
    "duration": 38,
    "start_time": "2023-11-11T22:19:56.128Z"
   },
   {
    "duration": 509,
    "start_time": "2023-11-11T22:28:30.444Z"
   },
   {
    "duration": 757,
    "start_time": "2023-11-11T22:33:38.279Z"
   },
   {
    "duration": 759,
    "start_time": "2023-11-11T22:35:39.056Z"
   },
   {
    "duration": 20,
    "start_time": "2023-11-11T22:58:56.040Z"
   },
   {
    "duration": 11,
    "start_time": "2023-11-11T23:00:16.869Z"
   },
   {
    "duration": 4,
    "start_time": "2023-11-11T23:01:33.195Z"
   },
   {
    "duration": 770,
    "start_time": "2023-11-11T23:02:10.355Z"
   },
   {
    "duration": 12,
    "start_time": "2023-11-11T23:04:05.737Z"
   },
   {
    "duration": 16,
    "start_time": "2023-11-11T23:04:21.640Z"
   },
   {
    "duration": 13,
    "start_time": "2023-11-11T23:11:04.561Z"
   },
   {
    "duration": 21,
    "start_time": "2023-11-11T23:27:48.810Z"
   },
   {
    "duration": 13,
    "start_time": "2023-11-11T23:29:43.605Z"
   },
   {
    "duration": 12,
    "start_time": "2023-11-11T23:30:28.087Z"
   },
   {
    "duration": 2,
    "start_time": "2023-11-11T23:43:38.200Z"
   },
   {
    "duration": 12,
    "start_time": "2023-11-11T23:43:41.654Z"
   },
   {
    "duration": 12,
    "start_time": "2023-11-11T23:47:11.782Z"
   },
   {
    "duration": 9,
    "start_time": "2023-11-11T23:58:26.783Z"
   },
   {
    "duration": 5,
    "start_time": "2023-11-12T00:31:08.456Z"
   },
   {
    "duration": 4,
    "start_time": "2023-11-12T00:31:10.323Z"
   },
   {
    "duration": 33,
    "start_time": "2023-11-12T00:31:21.607Z"
   },
   {
    "duration": 4,
    "start_time": "2023-11-12T00:34:27.459Z"
   },
   {
    "duration": 94,
    "start_time": "2023-11-12T00:34:27.466Z"
   },
   {
    "duration": 4,
    "start_time": "2023-11-12T00:34:27.561Z"
   },
   {
    "duration": 6,
    "start_time": "2023-11-12T00:34:27.566Z"
   },
   {
    "duration": 9,
    "start_time": "2023-11-12T00:34:27.573Z"
   },
   {
    "duration": 5,
    "start_time": "2023-11-12T00:34:27.583Z"
   },
   {
    "duration": 17,
    "start_time": "2023-11-12T00:34:27.590Z"
   },
   {
    "duration": 36,
    "start_time": "2023-11-12T00:34:27.608Z"
   },
   {
    "duration": 8,
    "start_time": "2023-11-12T00:34:27.645Z"
   },
   {
    "duration": 8,
    "start_time": "2023-11-12T00:34:27.654Z"
   },
   {
    "duration": 11,
    "start_time": "2023-11-12T00:34:27.664Z"
   },
   {
    "duration": 11,
    "start_time": "2023-11-12T00:34:27.676Z"
   },
   {
    "duration": 160,
    "start_time": "2023-11-12T00:34:27.688Z"
   },
   {
    "duration": 13,
    "start_time": "2023-11-12T00:34:27.849Z"
   },
   {
    "duration": 9,
    "start_time": "2023-11-12T00:34:27.863Z"
   },
   {
    "duration": 23,
    "start_time": "2023-11-12T00:34:27.873Z"
   },
   {
    "duration": 36,
    "start_time": "2023-11-12T00:34:27.897Z"
   },
   {
    "duration": 3,
    "start_time": "2023-11-12T00:34:27.935Z"
   },
   {
    "duration": 38,
    "start_time": "2023-11-12T00:34:27.939Z"
   },
   {
    "duration": 168,
    "start_time": "2023-11-12T00:34:27.979Z"
   },
   {
    "duration": 802,
    "start_time": "2023-11-12T00:34:28.150Z"
   },
   {
    "duration": 724,
    "start_time": "2023-11-12T00:34:28.954Z"
   },
   {
    "duration": 3,
    "start_time": "2023-11-12T00:34:29.679Z"
   },
   {
    "duration": 22,
    "start_time": "2023-11-12T00:34:29.683Z"
   },
   {
    "duration": 137,
    "start_time": "2023-11-12T00:34:29.707Z"
   },
   {
    "duration": 35,
    "start_time": "2023-11-12T00:35:14.659Z"
   },
   {
    "duration": 34,
    "start_time": "2023-11-12T00:35:43.501Z"
   },
   {
    "duration": 160,
    "start_time": "2023-11-12T00:39:04.787Z"
   },
   {
    "duration": 734,
    "start_time": "2023-11-12T00:40:23.710Z"
   },
   {
    "duration": 737,
    "start_time": "2023-11-12T00:50:58.062Z"
   },
   {
    "duration": 14,
    "start_time": "2023-11-12T00:51:16.317Z"
   },
   {
    "duration": 13,
    "start_time": "2023-11-12T00:51:56.643Z"
   },
   {
    "duration": 11,
    "start_time": "2023-11-12T00:52:00.727Z"
   },
   {
    "duration": 1352,
    "start_time": "2023-11-12T00:52:48.904Z"
   },
   {
    "duration": 99,
    "start_time": "2023-11-12T00:52:50.258Z"
   },
   {
    "duration": 3,
    "start_time": "2023-11-12T00:52:50.359Z"
   },
   {
    "duration": 42,
    "start_time": "2023-11-12T00:52:50.364Z"
   },
   {
    "duration": 15,
    "start_time": "2023-11-12T00:52:50.407Z"
   },
   {
    "duration": 21,
    "start_time": "2023-11-12T00:52:50.424Z"
   },
   {
    "duration": 39,
    "start_time": "2023-11-12T00:52:50.447Z"
   },
   {
    "duration": 3,
    "start_time": "2023-11-12T00:52:50.488Z"
   },
   {
    "duration": 35,
    "start_time": "2023-11-12T00:52:50.492Z"
   },
   {
    "duration": 17,
    "start_time": "2023-11-12T00:52:50.531Z"
   },
   {
    "duration": 12,
    "start_time": "2023-11-12T00:52:50.550Z"
   },
   {
    "duration": 12,
    "start_time": "2023-11-12T00:52:50.563Z"
   },
   {
    "duration": 157,
    "start_time": "2023-11-12T00:52:50.576Z"
   },
   {
    "duration": 14,
    "start_time": "2023-11-12T00:52:50.735Z"
   },
   {
    "duration": 7,
    "start_time": "2023-11-12T00:52:50.750Z"
   },
   {
    "duration": 10,
    "start_time": "2023-11-12T00:52:50.759Z"
   },
   {
    "duration": 42,
    "start_time": "2023-11-12T00:52:50.771Z"
   },
   {
    "duration": 4,
    "start_time": "2023-11-12T00:52:50.815Z"
   },
   {
    "duration": 47,
    "start_time": "2023-11-12T00:52:50.821Z"
   },
   {
    "duration": 273,
    "start_time": "2023-11-12T00:52:50.870Z"
   },
   {
    "duration": 805,
    "start_time": "2023-11-12T00:52:51.145Z"
   },
   {
    "duration": 719,
    "start_time": "2023-11-12T00:52:51.951Z"
   },
   {
    "duration": 2,
    "start_time": "2023-11-12T00:52:52.672Z"
   },
   {
    "duration": 34,
    "start_time": "2023-11-12T00:52:52.675Z"
   },
   {
    "duration": 135,
    "start_time": "2023-11-12T00:52:52.710Z"
   },
   {
    "duration": 80,
    "start_time": "2023-11-12T00:52:52.847Z"
   },
   {
    "duration": 0,
    "start_time": "2023-11-12T00:52:52.929Z"
   },
   {
    "duration": 0,
    "start_time": "2023-11-12T00:52:52.930Z"
   },
   {
    "duration": 0,
    "start_time": "2023-11-12T00:52:52.931Z"
   },
   {
    "duration": 0,
    "start_time": "2023-11-12T00:52:52.933Z"
   },
   {
    "duration": 0,
    "start_time": "2023-11-12T00:52:52.934Z"
   },
   {
    "duration": 0,
    "start_time": "2023-11-12T00:52:52.935Z"
   },
   {
    "duration": 35,
    "start_time": "2023-11-12T00:53:24.609Z"
   },
   {
    "duration": 197,
    "start_time": "2023-11-12T00:54:29.846Z"
   },
   {
    "duration": 206,
    "start_time": "2023-11-12T00:55:34.638Z"
   },
   {
    "duration": 697,
    "start_time": "2023-11-12T00:55:45.957Z"
   },
   {
    "duration": 15,
    "start_time": "2023-11-12T00:56:00.974Z"
   },
   {
    "duration": 719,
    "start_time": "2023-11-12T00:56:15.886Z"
   },
   {
    "duration": 834,
    "start_time": "2023-11-12T00:57:37.200Z"
   },
   {
    "duration": 744,
    "start_time": "2023-11-12T00:58:10.354Z"
   },
   {
    "duration": 750,
    "start_time": "2023-11-12T00:59:31.922Z"
   },
   {
    "duration": 13,
    "start_time": "2023-11-12T01:00:08.499Z"
   },
   {
    "duration": 12,
    "start_time": "2023-11-12T01:02:03.210Z"
   },
   {
    "duration": 745,
    "start_time": "2023-11-12T01:03:17.553Z"
   },
   {
    "duration": 12,
    "start_time": "2023-11-12T01:03:25.059Z"
   },
   {
    "duration": 738,
    "start_time": "2023-11-12T01:03:27.817Z"
   },
   {
    "duration": 40,
    "start_time": "2023-11-12T01:24:32.418Z"
   },
   {
    "duration": 10,
    "start_time": "2023-11-12T01:24:57.731Z"
   },
   {
    "duration": 3,
    "start_time": "2023-11-12T01:25:05.468Z"
   },
   {
    "duration": 36,
    "start_time": "2023-11-12T01:25:08.655Z"
   },
   {
    "duration": 119,
    "start_time": "2023-11-12T01:30:07.425Z"
   },
   {
    "duration": 161,
    "start_time": "2023-11-12T01:31:16.583Z"
   },
   {
    "duration": 13,
    "start_time": "2023-11-12T01:31:34.993Z"
   },
   {
    "duration": 740,
    "start_time": "2023-11-12T01:32:05.342Z"
   },
   {
    "duration": 12,
    "start_time": "2023-11-12T01:32:11.090Z"
   },
   {
    "duration": 12,
    "start_time": "2023-11-12T01:34:58.527Z"
   },
   {
    "duration": 39,
    "start_time": "2023-11-12T01:37:11.088Z"
   },
   {
    "duration": 1339,
    "start_time": "2023-11-12T01:38:10.913Z"
   },
   {
    "duration": 98,
    "start_time": "2023-11-12T01:38:12.254Z"
   },
   {
    "duration": 3,
    "start_time": "2023-11-12T01:38:12.353Z"
   },
   {
    "duration": 9,
    "start_time": "2023-11-12T01:38:12.358Z"
   },
   {
    "duration": 18,
    "start_time": "2023-11-12T01:38:12.369Z"
   },
   {
    "duration": 8,
    "start_time": "2023-11-12T01:38:12.388Z"
   },
   {
    "duration": 25,
    "start_time": "2023-11-12T01:38:12.397Z"
   },
   {
    "duration": 19,
    "start_time": "2023-11-12T01:38:12.423Z"
   },
   {
    "duration": 22,
    "start_time": "2023-11-12T01:38:12.443Z"
   },
   {
    "duration": 11,
    "start_time": "2023-11-12T01:38:12.467Z"
   },
   {
    "duration": 20,
    "start_time": "2023-11-12T01:38:12.479Z"
   },
   {
    "duration": 9,
    "start_time": "2023-11-12T01:38:12.500Z"
   },
   {
    "duration": 140,
    "start_time": "2023-11-12T01:38:12.510Z"
   },
   {
    "duration": 14,
    "start_time": "2023-11-12T01:38:12.652Z"
   },
   {
    "duration": 20,
    "start_time": "2023-11-12T01:38:12.667Z"
   },
   {
    "duration": 36,
    "start_time": "2023-11-12T01:38:12.688Z"
   },
   {
    "duration": 36,
    "start_time": "2023-11-12T01:38:12.726Z"
   },
   {
    "duration": 3,
    "start_time": "2023-11-12T01:38:12.764Z"
   },
   {
    "duration": 47,
    "start_time": "2023-11-12T01:38:12.769Z"
   },
   {
    "duration": 225,
    "start_time": "2023-11-12T01:38:12.818Z"
   },
   {
    "duration": 823,
    "start_time": "2023-11-12T01:38:13.047Z"
   },
   {
    "duration": 715,
    "start_time": "2023-11-12T01:38:13.872Z"
   },
   {
    "duration": 2,
    "start_time": "2023-11-12T01:38:14.588Z"
   },
   {
    "duration": 12,
    "start_time": "2023-11-12T01:38:14.592Z"
   },
   {
    "duration": 138,
    "start_time": "2023-11-12T01:38:14.606Z"
   },
   {
    "duration": 35,
    "start_time": "2023-11-12T01:38:14.745Z"
   },
   {
    "duration": 166,
    "start_time": "2023-11-12T01:38:14.781Z"
   },
   {
    "duration": 811,
    "start_time": "2023-11-12T01:38:14.951Z"
   },
   {
    "duration": 733,
    "start_time": "2023-11-12T01:38:15.764Z"
   },
   {
    "duration": 12,
    "start_time": "2023-11-12T01:38:16.498Z"
   },
   {
    "duration": 43,
    "start_time": "2023-11-12T01:38:16.511Z"
   },
   {
    "duration": 37,
    "start_time": "2023-11-12T01:40:07.794Z"
   },
   {
    "duration": 195,
    "start_time": "2023-11-12T01:40:58.848Z"
   },
   {
    "duration": 105,
    "start_time": "2023-11-12T01:48:24.887Z"
   },
   {
    "duration": 807,
    "start_time": "2023-11-12T01:50:05.235Z"
   },
   {
    "duration": 763,
    "start_time": "2023-11-12T01:50:26.701Z"
   },
   {
    "duration": 4,
    "start_time": "2023-11-12T01:51:47.787Z"
   },
   {
    "duration": 41,
    "start_time": "2023-11-12T01:52:02.903Z"
   },
   {
    "duration": 38,
    "start_time": "2023-11-12T01:53:18.014Z"
   },
   {
    "duration": 789,
    "start_time": "2023-11-12T01:53:24.148Z"
   },
   {
    "duration": 719,
    "start_time": "2023-11-12T01:58:54.911Z"
   },
   {
    "duration": 13,
    "start_time": "2023-11-12T01:59:06.141Z"
   },
   {
    "duration": 787,
    "start_time": "2023-11-12T02:04:31.709Z"
   },
   {
    "duration": 4,
    "start_time": "2023-11-12T02:05:25.515Z"
   },
   {
    "duration": 842,
    "start_time": "2023-11-12T02:05:37.656Z"
   },
   {
    "duration": 12,
    "start_time": "2023-11-12T02:07:09.295Z"
   },
   {
    "duration": 10,
    "start_time": "2023-11-12T02:10:32.957Z"
   },
   {
    "duration": 12,
    "start_time": "2023-11-12T02:10:59.016Z"
   },
   {
    "duration": 3,
    "start_time": "2023-11-12T02:32:13.466Z"
   },
   {
    "duration": 18,
    "start_time": "2023-11-12T02:32:15.688Z"
   },
   {
    "duration": 3,
    "start_time": "2023-11-12T02:32:27.388Z"
   },
   {
    "duration": 21,
    "start_time": "2023-11-12T02:32:31.448Z"
   },
   {
    "duration": 22,
    "start_time": "2023-11-12T02:32:42.801Z"
   },
   {
    "duration": 3,
    "start_time": "2023-11-12T02:33:14.921Z"
   },
   {
    "duration": 23,
    "start_time": "2023-11-12T02:33:17.854Z"
   },
   {
    "duration": 102,
    "start_time": "2023-11-12T02:34:05.002Z"
   },
   {
    "duration": 5,
    "start_time": "2023-11-12T02:41:31.542Z"
   },
   {
    "duration": 17,
    "start_time": "2023-11-12T02:45:10.509Z"
   },
   {
    "duration": 18,
    "start_time": "2023-11-12T02:53:50.131Z"
   },
   {
    "duration": 24,
    "start_time": "2023-11-12T02:55:28.126Z"
   },
   {
    "duration": 386,
    "start_time": "2023-11-12T02:56:57.784Z"
   },
   {
    "duration": 322,
    "start_time": "2023-11-12T02:58:22.986Z"
   },
   {
    "duration": 13,
    "start_time": "2023-11-12T02:58:56.682Z"
   },
   {
    "duration": 35,
    "start_time": "2023-11-12T03:03:00.899Z"
   },
   {
    "duration": 179,
    "start_time": "2023-11-12T03:03:16.464Z"
   },
   {
    "duration": 1469,
    "start_time": "2023-11-12T03:13:40.572Z"
   },
   {
    "duration": 101,
    "start_time": "2023-11-12T03:13:42.043Z"
   },
   {
    "duration": 4,
    "start_time": "2023-11-12T03:13:42.145Z"
   },
   {
    "duration": 8,
    "start_time": "2023-11-12T03:13:42.151Z"
   },
   {
    "duration": 9,
    "start_time": "2023-11-12T03:13:42.161Z"
   },
   {
    "duration": 5,
    "start_time": "2023-11-12T03:13:42.172Z"
   },
   {
    "duration": 21,
    "start_time": "2023-11-12T03:13:42.179Z"
   },
   {
    "duration": 2,
    "start_time": "2023-11-12T03:13:42.201Z"
   },
   {
    "duration": 4,
    "start_time": "2023-11-12T03:13:42.242Z"
   },
   {
    "duration": 7,
    "start_time": "2023-11-12T03:13:42.249Z"
   },
   {
    "duration": 10,
    "start_time": "2023-11-12T03:13:42.258Z"
   },
   {
    "duration": 10,
    "start_time": "2023-11-12T03:13:42.269Z"
   },
   {
    "duration": 152,
    "start_time": "2023-11-12T03:13:42.280Z"
   },
   {
    "duration": 17,
    "start_time": "2023-11-12T03:13:42.433Z"
   },
   {
    "duration": 5,
    "start_time": "2023-11-12T03:13:42.451Z"
   },
   {
    "duration": 6,
    "start_time": "2023-11-12T03:13:42.457Z"
   },
   {
    "duration": 40,
    "start_time": "2023-11-12T03:13:42.464Z"
   },
   {
    "duration": 3,
    "start_time": "2023-11-12T03:13:42.506Z"
   },
   {
    "duration": 52,
    "start_time": "2023-11-12T03:13:42.510Z"
   },
   {
    "duration": 179,
    "start_time": "2023-11-12T03:13:42.564Z"
   },
   {
    "duration": 801,
    "start_time": "2023-11-12T03:13:42.746Z"
   },
   {
    "duration": 719,
    "start_time": "2023-11-12T03:13:43.549Z"
   },
   {
    "duration": 3,
    "start_time": "2023-11-12T03:13:44.270Z"
   },
   {
    "duration": 18,
    "start_time": "2023-11-12T03:13:44.275Z"
   },
   {
    "duration": 139,
    "start_time": "2023-11-12T03:13:44.294Z"
   },
   {
    "duration": 33,
    "start_time": "2023-11-12T03:13:44.434Z"
   },
   {
    "duration": 278,
    "start_time": "2023-11-12T03:13:44.469Z"
   },
   {
    "duration": 717,
    "start_time": "2023-11-12T03:13:44.841Z"
   },
   {
    "duration": 731,
    "start_time": "2023-11-12T03:13:45.559Z"
   },
   {
    "duration": 12,
    "start_time": "2023-11-12T03:13:46.292Z"
   },
   {
    "duration": 34,
    "start_time": "2023-11-12T03:13:46.305Z"
   },
   {
    "duration": 36,
    "start_time": "2023-11-12T03:13:46.340Z"
   },
   {
    "duration": 54,
    "start_time": "2023-11-12T03:13:46.377Z"
   },
   {
    "duration": 211,
    "start_time": "2023-11-12T03:13:46.432Z"
   },
   {
    "duration": 888,
    "start_time": "2023-11-12T03:13:46.645Z"
   },
   {
    "duration": 847,
    "start_time": "2023-11-12T03:13:47.535Z"
   },
   {
    "duration": 13,
    "start_time": "2023-11-12T03:13:48.384Z"
   },
   {
    "duration": 5,
    "start_time": "2023-11-12T03:13:48.399Z"
   },
   {
    "duration": 120,
    "start_time": "2023-11-12T03:13:48.405Z"
   },
   {
    "duration": 0,
    "start_time": "2023-11-12T03:13:48.527Z"
   },
   {
    "duration": 0,
    "start_time": "2023-11-12T03:13:48.528Z"
   },
   {
    "duration": 0,
    "start_time": "2023-11-12T03:13:48.530Z"
   },
   {
    "duration": 0,
    "start_time": "2023-11-12T03:13:48.542Z"
   },
   {
    "duration": 0,
    "start_time": "2023-11-12T03:13:48.543Z"
   },
   {
    "duration": 0,
    "start_time": "2023-11-12T03:13:48.545Z"
   },
   {
    "duration": 0,
    "start_time": "2023-11-12T03:13:48.546Z"
   },
   {
    "duration": 4,
    "start_time": "2023-11-12T03:14:25.127Z"
   },
   {
    "duration": 5,
    "start_time": "2023-11-12T03:14:28.402Z"
   },
   {
    "duration": 19,
    "start_time": "2023-11-12T03:14:31.138Z"
   },
   {
    "duration": 110,
    "start_time": "2023-11-12T03:14:34.034Z"
   },
   {
    "duration": 399,
    "start_time": "2023-11-12T03:15:40.891Z"
   },
   {
    "duration": 346,
    "start_time": "2023-11-12T03:15:53.264Z"
   },
   {
    "duration": 12,
    "start_time": "2023-11-12T03:16:11.613Z"
   },
   {
    "duration": 13,
    "start_time": "2023-11-12T03:16:44.394Z"
   },
   {
    "duration": 13,
    "start_time": "2023-11-12T03:18:25.212Z"
   },
   {
    "duration": 337,
    "start_time": "2023-11-12T03:19:43.443Z"
   },
   {
    "duration": 328,
    "start_time": "2023-11-12T03:19:48.440Z"
   },
   {
    "duration": 389,
    "start_time": "2023-11-12T03:21:17.575Z"
   },
   {
    "duration": 335,
    "start_time": "2023-11-12T03:23:19.045Z"
   },
   {
    "duration": 139,
    "start_time": "2023-11-12T03:30:33.635Z"
   },
   {
    "duration": 918,
    "start_time": "2023-11-12T03:42:30.584Z"
   },
   {
    "duration": 975,
    "start_time": "2023-11-12T03:42:50.155Z"
   },
   {
    "duration": 890,
    "start_time": "2023-11-12T03:54:22.453Z"
   },
   {
    "duration": 266,
    "start_time": "2023-11-12T04:16:05.226Z"
   },
   {
    "duration": 1306,
    "start_time": "2024-01-05T09:05:56.457Z"
   },
   {
    "duration": 137,
    "start_time": "2024-01-05T09:05:57.765Z"
   },
   {
    "duration": 4,
    "start_time": "2024-01-05T09:05:57.904Z"
   },
   {
    "duration": 7,
    "start_time": "2024-01-05T09:05:57.909Z"
   },
   {
    "duration": 10,
    "start_time": "2024-01-05T09:05:57.917Z"
   },
   {
    "duration": 7,
    "start_time": "2024-01-05T09:05:57.929Z"
   },
   {
    "duration": 46,
    "start_time": "2024-01-05T09:05:57.937Z"
   },
   {
    "duration": 4,
    "start_time": "2024-01-05T09:05:57.985Z"
   },
   {
    "duration": 7,
    "start_time": "2024-01-05T09:05:57.990Z"
   },
   {
    "duration": 11,
    "start_time": "2024-01-05T09:05:58.000Z"
   },
   {
    "duration": 10,
    "start_time": "2024-01-05T09:05:58.012Z"
   },
   {
    "duration": 167,
    "start_time": "2024-01-05T09:05:58.023Z"
   },
   {
    "duration": 12,
    "start_time": "2024-01-05T09:05:58.192Z"
   },
   {
    "duration": 6,
    "start_time": "2024-01-05T09:05:58.207Z"
   },
   {
    "duration": 12,
    "start_time": "2024-01-05T09:05:58.215Z"
   },
   {
    "duration": 42,
    "start_time": "2024-01-05T09:05:58.228Z"
   },
   {
    "duration": 4,
    "start_time": "2024-01-05T09:05:58.271Z"
   },
   {
    "duration": 36,
    "start_time": "2024-01-05T09:05:58.276Z"
   },
   {
    "duration": 161,
    "start_time": "2024-01-05T09:05:58.313Z"
   },
   {
    "duration": 791,
    "start_time": "2024-01-05T09:05:58.566Z"
   },
   {
    "duration": 699,
    "start_time": "2024-01-05T09:05:59.359Z"
   },
   {
    "duration": 5,
    "start_time": "2024-01-05T09:06:00.060Z"
   },
   {
    "duration": 44,
    "start_time": "2024-01-05T09:06:00.067Z"
   },
   {
    "duration": 145,
    "start_time": "2024-01-05T09:06:00.113Z"
   },
   {
    "duration": 36,
    "start_time": "2024-01-05T09:06:00.260Z"
   },
   {
    "duration": 173,
    "start_time": "2024-01-05T09:06:00.297Z"
   },
   {
    "duration": 869,
    "start_time": "2024-01-05T09:06:00.472Z"
   },
   {
    "duration": 722,
    "start_time": "2024-01-05T09:06:01.344Z"
   },
   {
    "duration": 12,
    "start_time": "2024-01-05T09:06:02.067Z"
   },
   {
    "duration": 61,
    "start_time": "2024-01-05T09:06:02.080Z"
   },
   {
    "duration": 28,
    "start_time": "2024-01-05T09:06:02.143Z"
   },
   {
    "duration": 61,
    "start_time": "2024-01-05T09:06:02.173Z"
   },
   {
    "duration": 134,
    "start_time": "2024-01-05T09:06:02.236Z"
   },
   {
    "duration": 978,
    "start_time": "2024-01-05T09:06:02.372Z"
   },
   {
    "duration": 836,
    "start_time": "2024-01-05T09:06:03.352Z"
   },
   {
    "duration": 11,
    "start_time": "2024-01-05T09:06:04.190Z"
   },
   {
    "duration": 4,
    "start_time": "2024-01-05T09:06:04.203Z"
   },
   {
    "duration": 8,
    "start_time": "2024-01-05T09:06:04.209Z"
   },
   {
    "duration": 23,
    "start_time": "2024-01-05T09:06:04.218Z"
   },
   {
    "duration": 134,
    "start_time": "2024-01-05T09:06:04.242Z"
   },
   {
    "duration": 461,
    "start_time": "2024-01-05T09:06:04.467Z"
   },
   {
    "duration": 327,
    "start_time": "2024-01-05T09:06:04.929Z"
   },
   {
    "duration": 15,
    "start_time": "2024-01-05T09:06:05.258Z"
   },
   {
    "duration": 305,
    "start_time": "2024-01-05T09:06:05.275Z"
   },
   {
    "duration": 408,
    "start_time": "2024-01-05T09:06:05.582Z"
   },
   {
    "duration": 869,
    "start_time": "2024-01-05T09:06:05.992Z"
   }
  ],
  "kernelspec": {
   "display_name": "Python 3 (ipykernel)",
   "language": "python",
   "name": "python3"
  },
  "language_info": {
   "codemirror_mode": {
    "name": "ipython",
    "version": 3
   },
   "file_extension": ".py",
   "mimetype": "text/x-python",
   "name": "python",
   "nbconvert_exporter": "python",
   "pygments_lexer": "ipython3",
   "version": "3.9.5"
  },
  "toc": {
   "base_numbering": 1,
   "nav_menu": {},
   "number_sections": true,
   "sideBar": true,
   "skip_h1_title": true,
   "title_cell": "Содержание",
   "title_sidebar": "Contents",
   "toc_cell": true,
   "toc_position": {
    "height": "calc(100% - 180px)",
    "left": "10px",
    "top": "150px",
    "width": "165px"
   },
   "toc_section_display": true,
   "toc_window_display": true
  }
 },
 "nbformat": 4,
 "nbformat_minor": 2
}
